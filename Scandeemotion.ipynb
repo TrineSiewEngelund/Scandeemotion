{
  "nbformat": 4,
  "nbformat_minor": 0,
  "metadata": {
    "colab": {
      "provenance": [],
      "authorship_tag": "ABX9TyPSdEyWMi7eQ4VcJzT7RaWb",
      "include_colab_link": true
    },
    "kernelspec": {
      "name": "python3",
      "display_name": "Python 3"
    },
    "language_info": {
      "name": "python"
    },
    "accelerator": "GPU",
    "gpuClass": "standard"
  },
  "cells": [
    {
      "cell_type": "markdown",
      "metadata": {
        "id": "view-in-github",
        "colab_type": "text"
      },
      "source": [
        "<a href=\"https://colab.research.google.com/github/TrineSiewEngelund/Scandinavian-Emotion-Analysis/blob/main/Scandeemotion.ipynb\" target=\"_parent\"><img src=\"https://colab.research.google.com/assets/colab-badge.svg\" alt=\"Open In Colab\"/></a>"
      ]
    },
    {
      "cell_type": "markdown",
      "metadata": {
        "id": "jEUH6IzgkUKo"
      },
      "source": [
        "#Scandeemotion 🎭 🇳🇴🇸🇪🇩🇰\n",
        "\n",
        "###This notebook contains the code for my free topic on fine-tuning a BERT for Emotion Analysis and the three Scandinavian languages, Danish, Norwegian, and Swedish.\n",
        "\n",
        "Trine K. M. Siewartz Engelund\n",
        "\n",
        "lcz713@alumni.ku.dk\n",
        "\n",
        "-------\n",
        "In this notebook, we will:\n",
        "\n",
        "\n",
        "1.  Install libraries\n",
        "2.  Read and preprocess the dataset\n",
        "3.  Load pre-trained BERT model and set arguments\n",
        "4.  Define etrics for evalution during training\n",
        "3.  Fine-tune BERT\n",
        "4.  Evaluate and plot performance\n",
        "\n",
        "Before we start, check that GPU is enabled (click on the “Runtime” tab, select “change runtime type”, and select \"GPU\" as the type of hardware accelerator. Finally, click “save”).\n",
        "\n",
        "Now we are all set and ready to start!\n",
        "\n",
        "___________\n"
      ]
    },
    {
      "cell_type": "markdown",
      "source": [
        "## Install libraries\n",
        "\n",
        "First, we have to install the necessary libraries.\n",
        "\n"
      ],
      "metadata": {
        "id": "Xeei6Ngsv3B2"
      }
    },
    {
      "cell_type": "code",
      "execution_count": null,
      "metadata": {
        "colab": {
          "base_uri": "https://localhost:8080/"
        },
        "id": "VOK6y_2gbeg8",
        "outputId": "98297ea2-ae39-4941-8b19-592d782c728e"
      },
      "outputs": [
        {
          "output_type": "stream",
          "name": "stdout",
          "text": [
            "Looking in indexes: https://pypi.org/simple, https://us-python.pkg.dev/colab-wheels/public/simple/\n",
            "Collecting transformers\n",
            "  Downloading transformers-4.25.1-py3-none-any.whl (5.8 MB)\n",
            "\u001b[K     |████████████████████████████████| 5.8 MB 27.5 MB/s \n",
            "\u001b[?25hRequirement already satisfied: numpy>=1.17 in /usr/local/lib/python3.8/dist-packages (from transformers) (1.21.6)\n",
            "Requirement already satisfied: filelock in /usr/local/lib/python3.8/dist-packages (from transformers) (3.8.2)\n",
            "Collecting huggingface-hub<1.0,>=0.10.0\n",
            "  Downloading huggingface_hub-0.11.1-py3-none-any.whl (182 kB)\n",
            "\u001b[K     |████████████████████████████████| 182 kB 77.2 MB/s \n",
            "\u001b[?25hRequirement already satisfied: packaging>=20.0 in /usr/local/lib/python3.8/dist-packages (from transformers) (21.3)\n",
            "Requirement already satisfied: pyyaml>=5.1 in /usr/local/lib/python3.8/dist-packages (from transformers) (6.0)\n",
            "Requirement already satisfied: requests in /usr/local/lib/python3.8/dist-packages (from transformers) (2.23.0)\n",
            "Requirement already satisfied: tqdm>=4.27 in /usr/local/lib/python3.8/dist-packages (from transformers) (4.64.1)\n",
            "Collecting tokenizers!=0.11.3,<0.14,>=0.11.1\n",
            "  Downloading tokenizers-0.13.2-cp38-cp38-manylinux_2_17_x86_64.manylinux2014_x86_64.whl (7.6 MB)\n",
            "\u001b[K     |████████████████████████████████| 7.6 MB 65.0 MB/s \n",
            "\u001b[?25hRequirement already satisfied: regex!=2019.12.17 in /usr/local/lib/python3.8/dist-packages (from transformers) (2022.6.2)\n",
            "Requirement already satisfied: typing-extensions>=3.7.4.3 in /usr/local/lib/python3.8/dist-packages (from huggingface-hub<1.0,>=0.10.0->transformers) (4.4.0)\n",
            "Requirement already satisfied: pyparsing!=3.0.5,>=2.0.2 in /usr/local/lib/python3.8/dist-packages (from packaging>=20.0->transformers) (3.0.9)\n",
            "Requirement already satisfied: certifi>=2017.4.17 in /usr/local/lib/python3.8/dist-packages (from requests->transformers) (2022.12.7)\n",
            "Requirement already satisfied: chardet<4,>=3.0.2 in /usr/local/lib/python3.8/dist-packages (from requests->transformers) (3.0.4)\n",
            "Requirement already satisfied: urllib3!=1.25.0,!=1.25.1,<1.26,>=1.21.1 in /usr/local/lib/python3.8/dist-packages (from requests->transformers) (1.24.3)\n",
            "Requirement already satisfied: idna<3,>=2.5 in /usr/local/lib/python3.8/dist-packages (from requests->transformers) (2.10)\n",
            "Installing collected packages: tokenizers, huggingface-hub, transformers\n",
            "Successfully installed huggingface-hub-0.11.1 tokenizers-0.13.2 transformers-4.25.1\n",
            "Looking in indexes: https://pypi.org/simple, https://us-python.pkg.dev/colab-wheels/public/simple/\n",
            "Collecting simpletransformers\n",
            "  Downloading simpletransformers-0.63.9-py3-none-any.whl (250 kB)\n",
            "\u001b[K     |████████████████████████████████| 250 kB 32.5 MB/s \n",
            "\u001b[?25hCollecting datasets\n",
            "  Downloading datasets-2.8.0-py3-none-any.whl (452 kB)\n",
            "\u001b[K     |████████████████████████████████| 452 kB 68.0 MB/s \n",
            "\u001b[?25hCollecting sentencepiece\n",
            "  Downloading sentencepiece-0.1.97-cp38-cp38-manylinux_2_17_x86_64.manylinux2014_x86_64.whl (1.3 MB)\n",
            "\u001b[K     |████████████████████████████████| 1.3 MB 59.2 MB/s \n",
            "\u001b[?25hRequirement already satisfied: tokenizers in /usr/local/lib/python3.8/dist-packages (from simpletransformers) (0.13.2)\n",
            "Requirement already satisfied: numpy in /usr/local/lib/python3.8/dist-packages (from simpletransformers) (1.21.6)\n",
            "Requirement already satisfied: tqdm>=4.47.0 in /usr/local/lib/python3.8/dist-packages (from simpletransformers) (4.64.1)\n",
            "Requirement already satisfied: scikit-learn in /usr/local/lib/python3.8/dist-packages (from simpletransformers) (1.0.2)\n",
            "Requirement already satisfied: scipy in /usr/local/lib/python3.8/dist-packages (from simpletransformers) (1.7.3)\n",
            "Collecting streamlit\n",
            "  Downloading streamlit-1.16.0-py2.py3-none-any.whl (9.2 MB)\n",
            "\u001b[K     |████████████████████████████████| 9.2 MB 68.0 MB/s \n",
            "\u001b[?25hCollecting seqeval\n",
            "  Downloading seqeval-1.2.2.tar.gz (43 kB)\n",
            "\u001b[K     |████████████████████████████████| 43 kB 2.3 MB/s \n",
            "\u001b[?25hCollecting wandb>=0.10.32\n",
            "  Downloading wandb-0.13.7-py2.py3-none-any.whl (1.9 MB)\n",
            "\u001b[K     |████████████████████████████████| 1.9 MB 55.0 MB/s \n",
            "\u001b[?25hRequirement already satisfied: pandas in /usr/local/lib/python3.8/dist-packages (from simpletransformers) (1.3.5)\n",
            "Requirement already satisfied: regex in /usr/local/lib/python3.8/dist-packages (from simpletransformers) (2022.6.2)\n",
            "Requirement already satisfied: tensorboard in /usr/local/lib/python3.8/dist-packages (from simpletransformers) (2.9.1)\n",
            "Requirement already satisfied: requests in /usr/local/lib/python3.8/dist-packages (from simpletransformers) (2.23.0)\n",
            "Requirement already satisfied: transformers>=4.6.0 in /usr/local/lib/python3.8/dist-packages (from simpletransformers) (4.25.1)\n",
            "Requirement already satisfied: filelock in /usr/local/lib/python3.8/dist-packages (from transformers>=4.6.0->simpletransformers) (3.8.2)\n",
            "Requirement already satisfied: huggingface-hub<1.0,>=0.10.0 in /usr/local/lib/python3.8/dist-packages (from transformers>=4.6.0->simpletransformers) (0.11.1)\n",
            "Requirement already satisfied: packaging>=20.0 in /usr/local/lib/python3.8/dist-packages (from transformers>=4.6.0->simpletransformers) (21.3)\n",
            "Requirement already satisfied: pyyaml>=5.1 in /usr/local/lib/python3.8/dist-packages (from transformers>=4.6.0->simpletransformers) (6.0)\n",
            "Requirement already satisfied: typing-extensions>=3.7.4.3 in /usr/local/lib/python3.8/dist-packages (from huggingface-hub<1.0,>=0.10.0->transformers>=4.6.0->simpletransformers) (4.4.0)\n",
            "Requirement already satisfied: pyparsing!=3.0.5,>=2.0.2 in /usr/local/lib/python3.8/dist-packages (from packaging>=20.0->transformers>=4.6.0->simpletransformers) (3.0.9)\n",
            "Requirement already satisfied: Click!=8.0.0,>=7.0 in /usr/local/lib/python3.8/dist-packages (from wandb>=0.10.32->simpletransformers) (7.1.2)\n",
            "Collecting shortuuid>=0.5.0\n",
            "  Downloading shortuuid-1.0.11-py3-none-any.whl (10 kB)\n",
            "Requirement already satisfied: psutil>=5.0.0 in /usr/local/lib/python3.8/dist-packages (from wandb>=0.10.32->simpletransformers) (5.4.8)\n",
            "Collecting docker-pycreds>=0.4.0\n",
            "  Downloading docker_pycreds-0.4.0-py2.py3-none-any.whl (9.0 kB)\n",
            "Collecting pathtools\n",
            "  Downloading pathtools-0.1.2.tar.gz (11 kB)\n",
            "Requirement already satisfied: protobuf!=4.21.0,<5,>=3.12.0 in /usr/local/lib/python3.8/dist-packages (from wandb>=0.10.32->simpletransformers) (3.19.6)\n",
            "Requirement already satisfied: promise<3,>=2.0 in /usr/local/lib/python3.8/dist-packages (from wandb>=0.10.32->simpletransformers) (2.3)\n",
            "Collecting sentry-sdk>=1.0.0\n",
            "  Downloading sentry_sdk-1.12.1-py2.py3-none-any.whl (174 kB)\n",
            "\u001b[K     |████████████████████████████████| 174 kB 75.5 MB/s \n",
            "\u001b[?25hCollecting setproctitle\n",
            "  Downloading setproctitle-1.3.2-cp38-cp38-manylinux_2_5_x86_64.manylinux1_x86_64.manylinux_2_17_x86_64.manylinux2014_x86_64.whl (31 kB)\n",
            "Collecting GitPython>=1.0.0\n",
            "  Downloading GitPython-3.1.29-py3-none-any.whl (182 kB)\n",
            "\u001b[K     |████████████████████████████████| 182 kB 85.3 MB/s \n",
            "\u001b[?25hRequirement already satisfied: setuptools in /usr/local/lib/python3.8/dist-packages (from wandb>=0.10.32->simpletransformers) (57.4.0)\n",
            "Requirement already satisfied: six>=1.4.0 in /usr/local/lib/python3.8/dist-packages (from docker-pycreds>=0.4.0->wandb>=0.10.32->simpletransformers) (1.15.0)\n",
            "Collecting gitdb<5,>=4.0.1\n",
            "  Downloading gitdb-4.0.10-py3-none-any.whl (62 kB)\n",
            "\u001b[K     |████████████████████████████████| 62 kB 1.6 MB/s \n",
            "\u001b[?25hCollecting smmap<6,>=3.0.1\n",
            "  Downloading smmap-5.0.0-py3-none-any.whl (24 kB)\n",
            "Requirement already satisfied: idna<3,>=2.5 in /usr/local/lib/python3.8/dist-packages (from requests->simpletransformers) (2.10)\n",
            "Requirement already satisfied: certifi>=2017.4.17 in /usr/local/lib/python3.8/dist-packages (from requests->simpletransformers) (2022.12.7)\n",
            "Requirement already satisfied: chardet<4,>=3.0.2 in /usr/local/lib/python3.8/dist-packages (from requests->simpletransformers) (3.0.4)\n",
            "Requirement already satisfied: urllib3!=1.25.0,!=1.25.1,<1.26,>=1.21.1 in /usr/local/lib/python3.8/dist-packages (from requests->simpletransformers) (1.24.3)\n",
            "Collecting sentry-sdk>=1.0.0\n",
            "  Downloading sentry_sdk-1.12.0-py2.py3-none-any.whl (173 kB)\n",
            "\u001b[K     |████████████████████████████████| 173 kB 69.6 MB/s \n",
            "\u001b[?25h  Downloading sentry_sdk-1.11.1-py2.py3-none-any.whl (168 kB)\n",
            "\u001b[K     |████████████████████████████████| 168 kB 90.2 MB/s \n",
            "\u001b[?25h  Downloading sentry_sdk-1.11.0-py2.py3-none-any.whl (168 kB)\n",
            "\u001b[K     |████████████████████████████████| 168 kB 71.7 MB/s \n",
            "\u001b[?25h  Downloading sentry_sdk-1.10.1-py2.py3-none-any.whl (166 kB)\n",
            "\u001b[K     |████████████████████████████████| 166 kB 88.3 MB/s \n",
            "\u001b[?25h  Downloading sentry_sdk-1.10.0-py2.py3-none-any.whl (166 kB)\n",
            "\u001b[K     |████████████████████████████████| 166 kB 82.2 MB/s \n",
            "\u001b[?25h  Downloading sentry_sdk-1.9.10-py2.py3-none-any.whl (162 kB)\n",
            "\u001b[K     |████████████████████████████████| 162 kB 100.8 MB/s \n",
            "\u001b[?25h  Downloading sentry_sdk-1.9.9-py2.py3-none-any.whl (162 kB)\n",
            "\u001b[K     |████████████████████████████████| 162 kB 88.1 MB/s \n",
            "\u001b[?25h  Downloading sentry_sdk-1.9.8-py2.py3-none-any.whl (158 kB)\n",
            "\u001b[K     |████████████████████████████████| 158 kB 85.4 MB/s \n",
            "\u001b[?25h  Downloading sentry_sdk-1.9.7-py2.py3-none-any.whl (157 kB)\n",
            "\u001b[K     |████████████████████████████████| 157 kB 90.4 MB/s \n",
            "\u001b[?25h  Downloading sentry_sdk-1.9.6-py2.py3-none-any.whl (157 kB)\n",
            "\u001b[K     |████████████████████████████████| 157 kB 86.7 MB/s \n",
            "\u001b[?25h  Downloading sentry_sdk-1.9.5-py2.py3-none-any.whl (157 kB)\n",
            "\u001b[K     |████████████████████████████████| 157 kB 88.8 MB/s \n",
            "\u001b[?25h  Downloading sentry_sdk-1.9.4-py2.py3-none-any.whl (157 kB)\n",
            "\u001b[K     |████████████████████████████████| 157 kB 86.7 MB/s \n",
            "\u001b[?25h  Downloading sentry_sdk-1.9.3-py2.py3-none-any.whl (157 kB)\n",
            "\u001b[K     |████████████████████████████████| 157 kB 87.0 MB/s \n",
            "\u001b[?25h  Downloading sentry_sdk-1.9.2-py2.py3-none-any.whl (157 kB)\n",
            "\u001b[K     |████████████████████████████████| 157 kB 89.0 MB/s \n",
            "\u001b[?25h  Downloading sentry_sdk-1.9.1-py2.py3-none-any.whl (157 kB)\n",
            "\u001b[K     |████████████████████████████████| 157 kB 88.6 MB/s \n",
            "\u001b[?25h  Downloading sentry_sdk-1.9.0-py2.py3-none-any.whl (156 kB)\n",
            "\u001b[K     |████████████████████████████████| 156 kB 88.2 MB/s \n",
            "\u001b[?25hCollecting responses<0.19\n",
            "  Downloading responses-0.18.0-py3-none-any.whl (38 kB)\n",
            "Collecting xxhash\n",
            "  Downloading xxhash-3.1.0-cp38-cp38-manylinux_2_17_x86_64.manylinux2014_x86_64.whl (212 kB)\n",
            "\u001b[K     |████████████████████████████████| 212 kB 83.6 MB/s \n",
            "\u001b[?25hRequirement already satisfied: dill<0.3.7 in /usr/local/lib/python3.8/dist-packages (from datasets->simpletransformers) (0.3.6)\n",
            "Collecting multiprocess\n",
            "  Downloading multiprocess-0.70.14-py38-none-any.whl (132 kB)\n",
            "\u001b[K     |████████████████████████████████| 132 kB 78.7 MB/s \n",
            "\u001b[?25hRequirement already satisfied: fsspec[http]>=2021.11.1 in /usr/local/lib/python3.8/dist-packages (from datasets->simpletransformers) (2022.11.0)\n",
            "Requirement already satisfied: pyarrow>=6.0.0 in /usr/local/lib/python3.8/dist-packages (from datasets->simpletransformers) (9.0.0)\n",
            "Requirement already satisfied: aiohttp in /usr/local/lib/python3.8/dist-packages (from datasets->simpletransformers) (3.8.3)\n",
            "Requirement already satisfied: yarl<2.0,>=1.0 in /usr/local/lib/python3.8/dist-packages (from aiohttp->datasets->simpletransformers) (1.8.2)\n",
            "Requirement already satisfied: attrs>=17.3.0 in /usr/local/lib/python3.8/dist-packages (from aiohttp->datasets->simpletransformers) (22.1.0)\n",
            "Requirement already satisfied: charset-normalizer<3.0,>=2.0 in /usr/local/lib/python3.8/dist-packages (from aiohttp->datasets->simpletransformers) (2.1.1)\n",
            "Requirement already satisfied: multidict<7.0,>=4.5 in /usr/local/lib/python3.8/dist-packages (from aiohttp->datasets->simpletransformers) (6.0.3)\n",
            "Requirement already satisfied: frozenlist>=1.1.1 in /usr/local/lib/python3.8/dist-packages (from aiohttp->datasets->simpletransformers) (1.3.3)\n",
            "Requirement already satisfied: aiosignal>=1.1.2 in /usr/local/lib/python3.8/dist-packages (from aiohttp->datasets->simpletransformers) (1.3.1)\n",
            "Requirement already satisfied: async-timeout<5.0,>=4.0.0a3 in /usr/local/lib/python3.8/dist-packages (from aiohttp->datasets->simpletransformers) (4.0.2)\n",
            "Collecting urllib3!=1.25.0,!=1.25.1,<1.26,>=1.21.1\n",
            "  Downloading urllib3-1.25.11-py2.py3-none-any.whl (127 kB)\n",
            "\u001b[K     |████████████████████████████████| 127 kB 86.7 MB/s \n",
            "\u001b[?25hRequirement already satisfied: pytz>=2017.3 in /usr/local/lib/python3.8/dist-packages (from pandas->simpletransformers) (2022.6)\n",
            "Requirement already satisfied: python-dateutil>=2.7.3 in /usr/local/lib/python3.8/dist-packages (from pandas->simpletransformers) (2.8.2)\n",
            "Requirement already satisfied: threadpoolctl>=2.0.0 in /usr/local/lib/python3.8/dist-packages (from scikit-learn->simpletransformers) (3.1.0)\n",
            "Requirement already satisfied: joblib>=0.11 in /usr/local/lib/python3.8/dist-packages (from scikit-learn->simpletransformers) (1.2.0)\n",
            "Collecting pympler>=0.9\n",
            "  Downloading Pympler-1.0.1-py3-none-any.whl (164 kB)\n",
            "\u001b[K     |████████████████████████████████| 164 kB 79.7 MB/s \n",
            "\u001b[?25hRequirement already satisfied: toml in /usr/local/lib/python3.8/dist-packages (from streamlit->simpletransformers) (0.10.2)\n",
            "Collecting pydeck>=0.1.dev5\n",
            "  Downloading pydeck-0.8.0-py2.py3-none-any.whl (4.7 MB)\n",
            "\u001b[K     |████████████████████████████████| 4.7 MB 67.7 MB/s \n",
            "\u001b[?25hCollecting blinker>=1.0.0\n",
            "  Downloading blinker-1.5-py2.py3-none-any.whl (12 kB)\n",
            "Requirement already satisfied: importlib-metadata>=1.4 in /usr/local/lib/python3.8/dist-packages (from streamlit->simpletransformers) (5.1.0)\n",
            "Collecting rich>=10.11.0\n",
            "  Downloading rich-12.6.0-py3-none-any.whl (237 kB)\n",
            "\u001b[K     |████████████████████████████████| 237 kB 85.6 MB/s \n",
            "\u001b[?25hRequirement already satisfied: tornado>=5.0 in /usr/local/lib/python3.8/dist-packages (from streamlit->simpletransformers) (6.0.4)\n",
            "Requirement already satisfied: altair>=3.2.0 in /usr/local/lib/python3.8/dist-packages (from streamlit->simpletransformers) (4.2.0)\n",
            "Requirement already satisfied: pillow>=6.2.0 in /usr/local/lib/python3.8/dist-packages (from streamlit->simpletransformers) (7.1.2)\n",
            "Collecting validators>=0.2\n",
            "  Downloading validators-0.20.0.tar.gz (30 kB)\n",
            "Requirement already satisfied: tzlocal>=1.1 in /usr/local/lib/python3.8/dist-packages (from streamlit->simpletransformers) (1.5.1)\n",
            "Collecting semver\n",
            "  Downloading semver-2.13.0-py2.py3-none-any.whl (12 kB)\n",
            "Requirement already satisfied: cachetools>=4.0 in /usr/local/lib/python3.8/dist-packages (from streamlit->simpletransformers) (5.2.0)\n",
            "Collecting watchdog\n",
            "  Downloading watchdog-2.2.0-py3-none-manylinux2014_x86_64.whl (78 kB)\n",
            "\u001b[K     |████████████████████████████████| 78 kB 8.8 MB/s \n",
            "\u001b[?25hRequirement already satisfied: jinja2 in /usr/local/lib/python3.8/dist-packages (from altair>=3.2.0->streamlit->simpletransformers) (2.11.3)\n",
            "Requirement already satisfied: jsonschema>=3.0 in /usr/local/lib/python3.8/dist-packages (from altair>=3.2.0->streamlit->simpletransformers) (4.3.3)\n",
            "Requirement already satisfied: toolz in /usr/local/lib/python3.8/dist-packages (from altair>=3.2.0->streamlit->simpletransformers) (0.12.0)\n",
            "Requirement already satisfied: entrypoints in /usr/local/lib/python3.8/dist-packages (from altair>=3.2.0->streamlit->simpletransformers) (0.4)\n",
            "Requirement already satisfied: zipp>=0.5 in /usr/local/lib/python3.8/dist-packages (from importlib-metadata>=1.4->streamlit->simpletransformers) (3.11.0)\n",
            "Requirement already satisfied: importlib-resources>=1.4.0 in /usr/local/lib/python3.8/dist-packages (from jsonschema>=3.0->altair>=3.2.0->streamlit->simpletransformers) (5.10.1)\n",
            "Requirement already satisfied: pyrsistent!=0.17.0,!=0.17.1,!=0.17.2,>=0.14.0 in /usr/local/lib/python3.8/dist-packages (from jsonschema>=3.0->altair>=3.2.0->streamlit->simpletransformers) (0.19.2)\n",
            "Requirement already satisfied: MarkupSafe>=0.23 in /usr/local/lib/python3.8/dist-packages (from jinja2->altair>=3.2.0->streamlit->simpletransformers) (2.0.1)\n",
            "Requirement already satisfied: pygments<3.0.0,>=2.6.0 in /usr/local/lib/python3.8/dist-packages (from rich>=10.11.0->streamlit->simpletransformers) (2.6.1)\n",
            "Collecting commonmark<0.10.0,>=0.9.0\n",
            "  Downloading commonmark-0.9.1-py2.py3-none-any.whl (51 kB)\n",
            "\u001b[K     |████████████████████████████████| 51 kB 3.8 MB/s \n",
            "\u001b[?25hRequirement already satisfied: decorator>=3.4.0 in /usr/local/lib/python3.8/dist-packages (from validators>=0.2->streamlit->simpletransformers) (4.4.2)\n",
            "Requirement already satisfied: tensorboard-data-server<0.7.0,>=0.6.0 in /usr/local/lib/python3.8/dist-packages (from tensorboard->simpletransformers) (0.6.1)\n",
            "Requirement already satisfied: werkzeug>=1.0.1 in /usr/local/lib/python3.8/dist-packages (from tensorboard->simpletransformers) (1.0.1)\n",
            "Requirement already satisfied: markdown>=2.6.8 in /usr/local/lib/python3.8/dist-packages (from tensorboard->simpletransformers) (3.4.1)\n",
            "Requirement already satisfied: absl-py>=0.4 in /usr/local/lib/python3.8/dist-packages (from tensorboard->simpletransformers) (1.3.0)\n",
            "Requirement already satisfied: wheel>=0.26 in /usr/local/lib/python3.8/dist-packages (from tensorboard->simpletransformers) (0.38.4)\n",
            "Requirement already satisfied: google-auth-oauthlib<0.5,>=0.4.1 in /usr/local/lib/python3.8/dist-packages (from tensorboard->simpletransformers) (0.4.6)\n",
            "Requirement already satisfied: grpcio>=1.24.3 in /usr/local/lib/python3.8/dist-packages (from tensorboard->simpletransformers) (1.51.1)\n",
            "Requirement already satisfied: tensorboard-plugin-wit>=1.6.0 in /usr/local/lib/python3.8/dist-packages (from tensorboard->simpletransformers) (1.8.1)\n",
            "Requirement already satisfied: google-auth<3,>=1.6.3 in /usr/local/lib/python3.8/dist-packages (from tensorboard->simpletransformers) (2.15.0)\n",
            "Requirement already satisfied: pyasn1-modules>=0.2.1 in /usr/local/lib/python3.8/dist-packages (from google-auth<3,>=1.6.3->tensorboard->simpletransformers) (0.2.8)\n",
            "Requirement already satisfied: rsa<5,>=3.1.4 in /usr/local/lib/python3.8/dist-packages (from google-auth<3,>=1.6.3->tensorboard->simpletransformers) (4.9)\n",
            "Requirement already satisfied: requests-oauthlib>=0.7.0 in /usr/local/lib/python3.8/dist-packages (from google-auth-oauthlib<0.5,>=0.4.1->tensorboard->simpletransformers) (1.3.1)\n",
            "Requirement already satisfied: pyasn1<0.5.0,>=0.4.6 in /usr/local/lib/python3.8/dist-packages (from pyasn1-modules>=0.2.1->google-auth<3,>=1.6.3->tensorboard->simpletransformers) (0.4.8)\n",
            "Requirement already satisfied: oauthlib>=3.0.0 in /usr/local/lib/python3.8/dist-packages (from requests-oauthlib>=0.7.0->google-auth-oauthlib<0.5,>=0.4.1->tensorboard->simpletransformers) (3.2.2)\n",
            "Building wheels for collected packages: pathtools, seqeval, validators\n",
            "  Building wheel for pathtools (setup.py) ... \u001b[?25l\u001b[?25hdone\n",
            "  Created wheel for pathtools: filename=pathtools-0.1.2-py3-none-any.whl size=8806 sha256=618066e9af8a92c1c781744b075290e7c0030f7fdaf538b89fbf9895c2de1f65\n",
            "  Stored in directory: /root/.cache/pip/wheels/4c/8e/7e/72fbc243e1aeecae64a96875432e70d4e92f3d2d18123be004\n",
            "  Building wheel for seqeval (setup.py) ... \u001b[?25l\u001b[?25hdone\n",
            "  Created wheel for seqeval: filename=seqeval-1.2.2-py3-none-any.whl size=16179 sha256=79e9857f31c56c33b4717b5680f0156c60667980503b589f884494a252c5dcee\n",
            "  Stored in directory: /root/.cache/pip/wheels/ad/5c/ba/05fa33fa5855777b7d686e843ec07452f22a66a138e290e732\n",
            "  Building wheel for validators (setup.py) ... \u001b[?25l\u001b[?25hdone\n",
            "  Created wheel for validators: filename=validators-0.20.0-py3-none-any.whl size=19581 sha256=179e1909e70523f830409957ea3cf5a43804f2779665460060eaecfe2fd693ea\n",
            "  Stored in directory: /root/.cache/pip/wheels/19/09/72/3eb74d236bb48bd0f3c6c3c83e4e0c5bbfcbcad7c6c3539db8\n",
            "Successfully built pathtools seqeval validators\n",
            "Installing collected packages: urllib3, smmap, gitdb, commonmark, xxhash, watchdog, validators, shortuuid, setproctitle, sentry-sdk, semver, rich, responses, pympler, pydeck, pathtools, multiprocess, GitPython, docker-pycreds, blinker, wandb, streamlit, seqeval, sentencepiece, datasets, simpletransformers\n",
            "  Attempting uninstall: urllib3\n",
            "    Found existing installation: urllib3 1.24.3\n",
            "    Uninstalling urllib3-1.24.3:\n",
            "      Successfully uninstalled urllib3-1.24.3\n",
            "Successfully installed GitPython-3.1.29 blinker-1.5 commonmark-0.9.1 datasets-2.8.0 docker-pycreds-0.4.0 gitdb-4.0.10 multiprocess-0.70.14 pathtools-0.1.2 pydeck-0.8.0 pympler-1.0.1 responses-0.18.0 rich-12.6.0 semver-2.13.0 sentencepiece-0.1.97 sentry-sdk-1.9.0 seqeval-1.2.2 setproctitle-1.3.2 shortuuid-1.0.11 simpletransformers-0.63.9 smmap-5.0.0 streamlit-1.16.0 urllib3-1.25.11 validators-0.20.0 wandb-0.13.7 watchdog-2.2.0 xxhash-3.1.0\n",
            "Looking in indexes: https://pypi.org/simple, https://us-python.pkg.dev/colab-wheels/public/simple/\n",
            "Requirement already satisfied: wandb in /usr/local/lib/python3.8/dist-packages (0.13.7)\n",
            "Requirement already satisfied: psutil>=5.0.0 in /usr/local/lib/python3.8/dist-packages (from wandb) (5.4.8)\n",
            "Requirement already satisfied: requests<3,>=2.0.0 in /usr/local/lib/python3.8/dist-packages (from wandb) (2.23.0)\n",
            "Requirement already satisfied: Click!=8.0.0,>=7.0 in /usr/local/lib/python3.8/dist-packages (from wandb) (7.1.2)\n",
            "Requirement already satisfied: pathtools in /usr/local/lib/python3.8/dist-packages (from wandb) (0.1.2)\n",
            "Requirement already satisfied: protobuf!=4.21.0,<5,>=3.12.0 in /usr/local/lib/python3.8/dist-packages (from wandb) (3.19.6)\n",
            "Requirement already satisfied: promise<3,>=2.0 in /usr/local/lib/python3.8/dist-packages (from wandb) (2.3)\n",
            "Requirement already satisfied: GitPython>=1.0.0 in /usr/local/lib/python3.8/dist-packages (from wandb) (3.1.29)\n",
            "Requirement already satisfied: setuptools in /usr/local/lib/python3.8/dist-packages (from wandb) (57.4.0)\n",
            "Requirement already satisfied: PyYAML in /usr/local/lib/python3.8/dist-packages (from wandb) (6.0)\n",
            "Requirement already satisfied: shortuuid>=0.5.0 in /usr/local/lib/python3.8/dist-packages (from wandb) (1.0.11)\n",
            "Requirement already satisfied: docker-pycreds>=0.4.0 in /usr/local/lib/python3.8/dist-packages (from wandb) (0.4.0)\n",
            "Requirement already satisfied: sentry-sdk>=1.0.0 in /usr/local/lib/python3.8/dist-packages (from wandb) (1.9.0)\n",
            "Requirement already satisfied: setproctitle in /usr/local/lib/python3.8/dist-packages (from wandb) (1.3.2)\n",
            "Requirement already satisfied: six>=1.4.0 in /usr/local/lib/python3.8/dist-packages (from docker-pycreds>=0.4.0->wandb) (1.15.0)\n",
            "Requirement already satisfied: gitdb<5,>=4.0.1 in /usr/local/lib/python3.8/dist-packages (from GitPython>=1.0.0->wandb) (4.0.10)\n",
            "Requirement already satisfied: smmap<6,>=3.0.1 in /usr/local/lib/python3.8/dist-packages (from gitdb<5,>=4.0.1->GitPython>=1.0.0->wandb) (5.0.0)\n",
            "Requirement already satisfied: certifi>=2017.4.17 in /usr/local/lib/python3.8/dist-packages (from requests<3,>=2.0.0->wandb) (2022.12.7)\n",
            "Requirement already satisfied: idna<3,>=2.5 in /usr/local/lib/python3.8/dist-packages (from requests<3,>=2.0.0->wandb) (2.10)\n",
            "Requirement already satisfied: urllib3!=1.25.0,!=1.25.1,<1.26,>=1.21.1 in /usr/local/lib/python3.8/dist-packages (from requests<3,>=2.0.0->wandb) (1.25.11)\n",
            "Requirement already satisfied: chardet<4,>=3.0.2 in /usr/local/lib/python3.8/dist-packages (from requests<3,>=2.0.0->wandb) (3.0.4)\n"
          ]
        }
      ],
      "source": [
        "!pip install transformers\n",
        "!pip install simpletransformers\n",
        "!pip install wandb\n",
        "import wandb\n",
        "import pandas as pd\n",
        "import sklearn\n",
        "from sklearn.model_selection import train_test_split\n",
        "from simpletransformers.classification import MultiLabelClassificationModel\n",
        "from sklearn.metrics import f1_score, precision_score, recall_score, classification_report, multilabel_confusion_matrix, ConfusionMatrixDisplay\n",
        "from sklearn.metrics import \n",
        "import plotly.graph_objects as go\n",
        "import numpy as np\n",
        "import matplotlib.pyplot as plt"
      ]
    },
    {
      "cell_type": "markdown",
      "metadata": {
        "id": "oVAY5pkN5v6p"
      },
      "source": [
        "If you wish to visualize the fine-tuning, you must log in and authenticate to your Weights & Biases (wandb) account. Otherwise, this step can be skipped. Note, you must have created a user beforehand."
      ]
    },
    {
      "cell_type": "code",
      "execution_count": null,
      "metadata": {
        "colab": {
          "base_uri": "https://localhost:8080/"
        },
        "id": "-zv2pFXt5yRZ",
        "outputId": "c095427e-e37b-431a-9557-9396630431ce"
      },
      "outputs": [
        {
          "output_type": "stream",
          "name": "stdout",
          "text": [
            "\u001b[34m\u001b[1mwandb\u001b[0m: Logging into wandb.ai. (Learn how to deploy a W&B server locally: https://wandb.me/wandb-server)\n",
            "\u001b[34m\u001b[1mwandb\u001b[0m: You can find your API key in your browser here: https://wandb.ai/authorize\n",
            "\u001b[34m\u001b[1mwandb\u001b[0m: Paste an API key from your profile and hit enter, or press ctrl+c to quit: \n",
            "\u001b[34m\u001b[1mwandb\u001b[0m: Appending key for api.wandb.ai to your netrc file: /root/.netrc\n"
          ]
        }
      ],
      "source": [
        "!wandb login"
      ]
    },
    {
      "cell_type": "markdown",
      "metadata": {
        "id": "PZMgaUpamEbt"
      },
      "source": [
        "## Dataset\n",
        "\n",
        "Next, we will read the dataset. The dataset origins from the XED dataset.\n",
        "\n",
        "Reference:\n",
        "Öhman, E., Pàmies, M., Kajava, K. and Tiedemann, J., 2020. XED: A Multilingual Dataset for Sentiment Analysis and Emotion Detection. In Proceedings of the 28th International Conference on Computational Linguistics (COLING 2020).\n",
        "https://github.com/Helsinki-NLP/XED\n",
        "\n",
        "I have to execute the cell below and upload the three provided tsv files, *da-projections.tsv*, *no-projections.tsv*, and *sv-projections.tsv*"
      ]
    },
    {
      "cell_type": "code",
      "source": [
        "from google.colab import files\n",
        "uploaded = files.upload()"
      ],
      "metadata": {
        "id": "2ybyfJLHZm55"
      },
      "execution_count": null,
      "outputs": []
    },
    {
      "cell_type": "code",
      "execution_count": null,
      "metadata": {
        "id": "RdaIbS3xmDv4"
      },
      "outputs": [],
      "source": [
        "# read Danish, Norwegian and Swedish data from XED\n",
        "data_da = pd.read_csv('da-projections.tsv', sep='\\t', header=None, names=['text', 'labels'])\n",
        "data_no = pd.read_csv('no-projections.tsv', sep='\\t', header=None, names=['text', 'labels'])\n",
        "data_sv = pd.read_csv('sv-projections.tsv', sep='\\t', header=None, names=['text', 'labels'])\n",
        "\n",
        "# concat data\n",
        "data = pd.concat([data_da,data_no,data_sv])\n",
        "\n",
        "# add language label\n",
        "language = ['danish'] * len(data_da) + ['norwegian'] * len(data_no) + ['swedish'] * len(data_sv)\n",
        "data[\"language\"] = language\n",
        "\n",
        "# format labels from string to list\n",
        "data.labels = [[int(idx, 16) for idx in x.split(\",\")] for x in data['labels']]\n",
        "\n",
        "# reset index\n",
        "data = data.reset_index(drop=True)\n"
      ]
    },
    {
      "cell_type": "markdown",
      "source": [
        "Let's plot the distribution of emotions and languages"
      ],
      "metadata": {
        "id": "y4Jni8tzwJCH"
      }
    },
    {
      "cell_type": "code",
      "source": [
        "da = df[df[\"language\"]==\"danish\"][\"labels\"].value_counts().sort_index()\n",
        "no = df[df[\"language\"]==\"norwegian\"][\"labels\"].value_counts().sort_index()\n",
        "sv = df[df[\"language\"]==\"swedish\"][\"labels\"].value_counts().sort_index()\n",
        "emotions=['anger', 'anticipation', 'disgust', 'fear', 'joy', 'sadness', 'surprise', 'trust']\n",
        "\n",
        "fig = go.Figure(data=[\n",
        "    go.Bar(name='Danish', x=emotions, y=da, marker_color=\"midnightblue\"),\n",
        "    go.Bar(name='Norwegian', x=emotions, y=no, marker_color=\"deepskyblue\"),\n",
        "    go.Bar(name='Swedish', x=emotions, y=sv, marker_color=\"skyblue\")\n",
        "])\n",
        "\n",
        "fig.update_layout(barmode='stack')\n",
        "fig.show()"
      ],
      "metadata": {
        "colab": {
          "base_uri": "https://localhost:8080/",
          "height": 562
        },
        "id": "pbFl3E50nrx9",
        "outputId": "62c6ce22-2cf3-4875-e4d9-31ff93ca744a"
      },
      "execution_count": null,
      "outputs": [
        {
          "output_type": "display_data",
          "data": {
            "text/html": [
              "<html>\n",
              "<head><meta charset=\"utf-8\" /></head>\n",
              "<body>\n",
              "    <div>            <script src=\"https://cdnjs.cloudflare.com/ajax/libs/mathjax/2.7.5/MathJax.js?config=TeX-AMS-MML_SVG\"></script><script type=\"text/javascript\">if (window.MathJax) {MathJax.Hub.Config({SVG: {font: \"STIX-Web\"}});}</script>                <script type=\"text/javascript\">window.PlotlyConfig = {MathJaxConfig: 'local'};</script>\n",
              "        <script src=\"https://cdn.plot.ly/plotly-2.8.3.min.js\"></script>                <div id=\"852af9bd-1660-41de-b03f-cc7bf2332c37\" class=\"plotly-graph-div\" style=\"height:525px; width:100%;\"></div>            <script type=\"text/javascript\">                                    window.PLOTLYENV=window.PLOTLYENV || {};                                    if (document.getElementById(\"852af9bd-1660-41de-b03f-cc7bf2332c37\")) {                    Plotly.newPlot(                        \"852af9bd-1660-41de-b03f-cc7bf2332c37\",                        [{\"marker\":{\"color\":\"midnightblue\"},\"name\":\"Danish\",\"x\":[\"anger\",\"anticipation\",\"disgust\",\"fear\",\"joy\",\"sadness\",\"surprise\",\"trust\"],\"y\":[448,473,194,218,350,283,294,351],\"type\":\"bar\"},{\"marker\":{\"color\":\"deepskyblue\"},\"name\":\"Norwegian\",\"x\":[\"anger\",\"anticipation\",\"disgust\",\"fear\",\"joy\",\"sadness\",\"surprise\",\"trust\"],\"y\":[1052,1030,501,585,823,679,731,713],\"type\":\"bar\"},{\"marker\":{\"color\":\"skyblue\"},\"name\":\"Swedish\",\"x\":[\"anger\",\"anticipation\",\"disgust\",\"fear\",\"joy\",\"sadness\",\"surprise\",\"trust\"],\"y\":[1274,1161,592,692,816,832,866,828],\"type\":\"bar\"}],                        {\"template\":{\"data\":{\"bar\":[{\"error_x\":{\"color\":\"#2a3f5f\"},\"error_y\":{\"color\":\"#2a3f5f\"},\"marker\":{\"line\":{\"color\":\"#E5ECF6\",\"width\":0.5},\"pattern\":{\"fillmode\":\"overlay\",\"size\":10,\"solidity\":0.2}},\"type\":\"bar\"}],\"barpolar\":[{\"marker\":{\"line\":{\"color\":\"#E5ECF6\",\"width\":0.5},\"pattern\":{\"fillmode\":\"overlay\",\"size\":10,\"solidity\":0.2}},\"type\":\"barpolar\"}],\"carpet\":[{\"aaxis\":{\"endlinecolor\":\"#2a3f5f\",\"gridcolor\":\"white\",\"linecolor\":\"white\",\"minorgridcolor\":\"white\",\"startlinecolor\":\"#2a3f5f\"},\"baxis\":{\"endlinecolor\":\"#2a3f5f\",\"gridcolor\":\"white\",\"linecolor\":\"white\",\"minorgridcolor\":\"white\",\"startlinecolor\":\"#2a3f5f\"},\"type\":\"carpet\"}],\"choropleth\":[{\"colorbar\":{\"outlinewidth\":0,\"ticks\":\"\"},\"type\":\"choropleth\"}],\"contour\":[{\"colorbar\":{\"outlinewidth\":0,\"ticks\":\"\"},\"colorscale\":[[0.0,\"#0d0887\"],[0.1111111111111111,\"#46039f\"],[0.2222222222222222,\"#7201a8\"],[0.3333333333333333,\"#9c179e\"],[0.4444444444444444,\"#bd3786\"],[0.5555555555555556,\"#d8576b\"],[0.6666666666666666,\"#ed7953\"],[0.7777777777777778,\"#fb9f3a\"],[0.8888888888888888,\"#fdca26\"],[1.0,\"#f0f921\"]],\"type\":\"contour\"}],\"contourcarpet\":[{\"colorbar\":{\"outlinewidth\":0,\"ticks\":\"\"},\"type\":\"contourcarpet\"}],\"heatmap\":[{\"colorbar\":{\"outlinewidth\":0,\"ticks\":\"\"},\"colorscale\":[[0.0,\"#0d0887\"],[0.1111111111111111,\"#46039f\"],[0.2222222222222222,\"#7201a8\"],[0.3333333333333333,\"#9c179e\"],[0.4444444444444444,\"#bd3786\"],[0.5555555555555556,\"#d8576b\"],[0.6666666666666666,\"#ed7953\"],[0.7777777777777778,\"#fb9f3a\"],[0.8888888888888888,\"#fdca26\"],[1.0,\"#f0f921\"]],\"type\":\"heatmap\"}],\"heatmapgl\":[{\"colorbar\":{\"outlinewidth\":0,\"ticks\":\"\"},\"colorscale\":[[0.0,\"#0d0887\"],[0.1111111111111111,\"#46039f\"],[0.2222222222222222,\"#7201a8\"],[0.3333333333333333,\"#9c179e\"],[0.4444444444444444,\"#bd3786\"],[0.5555555555555556,\"#d8576b\"],[0.6666666666666666,\"#ed7953\"],[0.7777777777777778,\"#fb9f3a\"],[0.8888888888888888,\"#fdca26\"],[1.0,\"#f0f921\"]],\"type\":\"heatmapgl\"}],\"histogram\":[{\"marker\":{\"pattern\":{\"fillmode\":\"overlay\",\"size\":10,\"solidity\":0.2}},\"type\":\"histogram\"}],\"histogram2d\":[{\"colorbar\":{\"outlinewidth\":0,\"ticks\":\"\"},\"colorscale\":[[0.0,\"#0d0887\"],[0.1111111111111111,\"#46039f\"],[0.2222222222222222,\"#7201a8\"],[0.3333333333333333,\"#9c179e\"],[0.4444444444444444,\"#bd3786\"],[0.5555555555555556,\"#d8576b\"],[0.6666666666666666,\"#ed7953\"],[0.7777777777777778,\"#fb9f3a\"],[0.8888888888888888,\"#fdca26\"],[1.0,\"#f0f921\"]],\"type\":\"histogram2d\"}],\"histogram2dcontour\":[{\"colorbar\":{\"outlinewidth\":0,\"ticks\":\"\"},\"colorscale\":[[0.0,\"#0d0887\"],[0.1111111111111111,\"#46039f\"],[0.2222222222222222,\"#7201a8\"],[0.3333333333333333,\"#9c179e\"],[0.4444444444444444,\"#bd3786\"],[0.5555555555555556,\"#d8576b\"],[0.6666666666666666,\"#ed7953\"],[0.7777777777777778,\"#fb9f3a\"],[0.8888888888888888,\"#fdca26\"],[1.0,\"#f0f921\"]],\"type\":\"histogram2dcontour\"}],\"mesh3d\":[{\"colorbar\":{\"outlinewidth\":0,\"ticks\":\"\"},\"type\":\"mesh3d\"}],\"parcoords\":[{\"line\":{\"colorbar\":{\"outlinewidth\":0,\"ticks\":\"\"}},\"type\":\"parcoords\"}],\"pie\":[{\"automargin\":true,\"type\":\"pie\"}],\"scatter\":[{\"marker\":{\"colorbar\":{\"outlinewidth\":0,\"ticks\":\"\"}},\"type\":\"scatter\"}],\"scatter3d\":[{\"line\":{\"colorbar\":{\"outlinewidth\":0,\"ticks\":\"\"}},\"marker\":{\"colorbar\":{\"outlinewidth\":0,\"ticks\":\"\"}},\"type\":\"scatter3d\"}],\"scattercarpet\":[{\"marker\":{\"colorbar\":{\"outlinewidth\":0,\"ticks\":\"\"}},\"type\":\"scattercarpet\"}],\"scattergeo\":[{\"marker\":{\"colorbar\":{\"outlinewidth\":0,\"ticks\":\"\"}},\"type\":\"scattergeo\"}],\"scattergl\":[{\"marker\":{\"colorbar\":{\"outlinewidth\":0,\"ticks\":\"\"}},\"type\":\"scattergl\"}],\"scattermapbox\":[{\"marker\":{\"colorbar\":{\"outlinewidth\":0,\"ticks\":\"\"}},\"type\":\"scattermapbox\"}],\"scatterpolar\":[{\"marker\":{\"colorbar\":{\"outlinewidth\":0,\"ticks\":\"\"}},\"type\":\"scatterpolar\"}],\"scatterpolargl\":[{\"marker\":{\"colorbar\":{\"outlinewidth\":0,\"ticks\":\"\"}},\"type\":\"scatterpolargl\"}],\"scatterternary\":[{\"marker\":{\"colorbar\":{\"outlinewidth\":0,\"ticks\":\"\"}},\"type\":\"scatterternary\"}],\"surface\":[{\"colorbar\":{\"outlinewidth\":0,\"ticks\":\"\"},\"colorscale\":[[0.0,\"#0d0887\"],[0.1111111111111111,\"#46039f\"],[0.2222222222222222,\"#7201a8\"],[0.3333333333333333,\"#9c179e\"],[0.4444444444444444,\"#bd3786\"],[0.5555555555555556,\"#d8576b\"],[0.6666666666666666,\"#ed7953\"],[0.7777777777777778,\"#fb9f3a\"],[0.8888888888888888,\"#fdca26\"],[1.0,\"#f0f921\"]],\"type\":\"surface\"}],\"table\":[{\"cells\":{\"fill\":{\"color\":\"#EBF0F8\"},\"line\":{\"color\":\"white\"}},\"header\":{\"fill\":{\"color\":\"#C8D4E3\"},\"line\":{\"color\":\"white\"}},\"type\":\"table\"}]},\"layout\":{\"annotationdefaults\":{\"arrowcolor\":\"#2a3f5f\",\"arrowhead\":0,\"arrowwidth\":1},\"autotypenumbers\":\"strict\",\"coloraxis\":{\"colorbar\":{\"outlinewidth\":0,\"ticks\":\"\"}},\"colorscale\":{\"diverging\":[[0,\"#8e0152\"],[0.1,\"#c51b7d\"],[0.2,\"#de77ae\"],[0.3,\"#f1b6da\"],[0.4,\"#fde0ef\"],[0.5,\"#f7f7f7\"],[0.6,\"#e6f5d0\"],[0.7,\"#b8e186\"],[0.8,\"#7fbc41\"],[0.9,\"#4d9221\"],[1,\"#276419\"]],\"sequential\":[[0.0,\"#0d0887\"],[0.1111111111111111,\"#46039f\"],[0.2222222222222222,\"#7201a8\"],[0.3333333333333333,\"#9c179e\"],[0.4444444444444444,\"#bd3786\"],[0.5555555555555556,\"#d8576b\"],[0.6666666666666666,\"#ed7953\"],[0.7777777777777778,\"#fb9f3a\"],[0.8888888888888888,\"#fdca26\"],[1.0,\"#f0f921\"]],\"sequentialminus\":[[0.0,\"#0d0887\"],[0.1111111111111111,\"#46039f\"],[0.2222222222222222,\"#7201a8\"],[0.3333333333333333,\"#9c179e\"],[0.4444444444444444,\"#bd3786\"],[0.5555555555555556,\"#d8576b\"],[0.6666666666666666,\"#ed7953\"],[0.7777777777777778,\"#fb9f3a\"],[0.8888888888888888,\"#fdca26\"],[1.0,\"#f0f921\"]]},\"colorway\":[\"#636efa\",\"#EF553B\",\"#00cc96\",\"#ab63fa\",\"#FFA15A\",\"#19d3f3\",\"#FF6692\",\"#B6E880\",\"#FF97FF\",\"#FECB52\"],\"font\":{\"color\":\"#2a3f5f\"},\"geo\":{\"bgcolor\":\"white\",\"lakecolor\":\"white\",\"landcolor\":\"#E5ECF6\",\"showlakes\":true,\"showland\":true,\"subunitcolor\":\"white\"},\"hoverlabel\":{\"align\":\"left\"},\"hovermode\":\"closest\",\"mapbox\":{\"style\":\"light\"},\"paper_bgcolor\":\"white\",\"plot_bgcolor\":\"#E5ECF6\",\"polar\":{\"angularaxis\":{\"gridcolor\":\"white\",\"linecolor\":\"white\",\"ticks\":\"\"},\"bgcolor\":\"#E5ECF6\",\"radialaxis\":{\"gridcolor\":\"white\",\"linecolor\":\"white\",\"ticks\":\"\"}},\"scene\":{\"xaxis\":{\"backgroundcolor\":\"#E5ECF6\",\"gridcolor\":\"white\",\"gridwidth\":2,\"linecolor\":\"white\",\"showbackground\":true,\"ticks\":\"\",\"zerolinecolor\":\"white\"},\"yaxis\":{\"backgroundcolor\":\"#E5ECF6\",\"gridcolor\":\"white\",\"gridwidth\":2,\"linecolor\":\"white\",\"showbackground\":true,\"ticks\":\"\",\"zerolinecolor\":\"white\"},\"zaxis\":{\"backgroundcolor\":\"#E5ECF6\",\"gridcolor\":\"white\",\"gridwidth\":2,\"linecolor\":\"white\",\"showbackground\":true,\"ticks\":\"\",\"zerolinecolor\":\"white\"}},\"shapedefaults\":{\"line\":{\"color\":\"#2a3f5f\"}},\"ternary\":{\"aaxis\":{\"gridcolor\":\"white\",\"linecolor\":\"white\",\"ticks\":\"\"},\"baxis\":{\"gridcolor\":\"white\",\"linecolor\":\"white\",\"ticks\":\"\"},\"bgcolor\":\"#E5ECF6\",\"caxis\":{\"gridcolor\":\"white\",\"linecolor\":\"white\",\"ticks\":\"\"}},\"title\":{\"x\":0.05},\"xaxis\":{\"automargin\":true,\"gridcolor\":\"white\",\"linecolor\":\"white\",\"ticks\":\"\",\"title\":{\"standoff\":15},\"zerolinecolor\":\"white\",\"zerolinewidth\":2},\"yaxis\":{\"automargin\":true,\"gridcolor\":\"white\",\"linecolor\":\"white\",\"ticks\":\"\",\"title\":{\"standoff\":15},\"zerolinecolor\":\"white\",\"zerolinewidth\":2}}},\"barmode\":\"stack\"},                        {\"responsive\": true}                    ).then(function(){\n",
              "                            \n",
              "var gd = document.getElementById('852af9bd-1660-41de-b03f-cc7bf2332c37');\n",
              "var x = new MutationObserver(function (mutations, observer) {{\n",
              "        var display = window.getComputedStyle(gd).display;\n",
              "        if (!display || display === 'none') {{\n",
              "            console.log([gd, 'removed!']);\n",
              "            Plotly.purge(gd);\n",
              "            observer.disconnect();\n",
              "        }}\n",
              "}});\n",
              "\n",
              "// Listen for the removal of the full notebook cells\n",
              "var notebookContainer = gd.closest('#notebook-container');\n",
              "if (notebookContainer) {{\n",
              "    x.observe(notebookContainer, {childList: true});\n",
              "}}\n",
              "\n",
              "// Listen for the clearing of the current output cell\n",
              "var outputEl = gd.closest('.output');\n",
              "if (outputEl) {{\n",
              "    x.observe(outputEl, {childList: true});\n",
              "}}\n",
              "\n",
              "                        })                };                            </script>        </div>\n",
              "</body>\n",
              "</html>"
            ]
          },
          "metadata": {}
        }
      ]
    },
    {
      "cell_type": "markdown",
      "source": [
        "We have to one-hot-encode the labels"
      ],
      "metadata": {
        "id": "85EBOefKwYGC"
      }
    },
    {
      "cell_type": "code",
      "execution_count": null,
      "metadata": {
        "id": "sgLy6NCFmNbv"
      },
      "outputs": [],
      "source": [
        "# The one_hot_encoder() function origins from a Medium tutorial: \"Multi-label Emotion Classification with PyTorch + HuggingFace’s Transformers and W&B for Tracking\"\n",
        "# Link: https://medium.com/towards-data-science/multi-label-emotion-classification-with-pytorch-huggingfaces-transformers-and-w-b-for-tracking-a060d817923\n",
        "\n",
        "def one_hot_encoder(df):\n",
        "    one_hot_encoding = []\n",
        "    for i in range(len(df)):\n",
        "        temp = [0]*9\n",
        "        label_indices = df.iloc[i][\"labels\"]\n",
        "        for index in label_indices:\n",
        "            temp[index] = 1\n",
        "        one_hot_encoding.append(temp)\n",
        "    return pd.DataFrame(one_hot_encoding)"
      ]
    },
    {
      "cell_type": "code",
      "execution_count": null,
      "metadata": {
        "id": "HOJMX77NmPlg"
      },
      "outputs": [],
      "source": [
        "data_ohe_labels = one_hot_encoder(data)\n",
        "data = pd.concat([data, data_ohe_labels], axis=1)\n",
        "del data[\"labels\"]\n",
        "data[\"labels\"] = data[[0,1,2,3,4,5,6,7,8]].values.tolist()\n",
        "new_df = data[[\"text\", \"labels\", \"language\"]]"
      ]
    },
    {
      "cell_type": "markdown",
      "source": [
        "Finally, we split the dataset in train, develop and test set"
      ],
      "metadata": {
        "id": "o6ZnE2L8cDxb"
      }
    },
    {
      "cell_type": "code",
      "execution_count": null,
      "metadata": {
        "id": "9sduOLjnmS8R"
      },
      "outputs": [],
      "source": [
        "# split in train, develop and test set\n",
        "train_df, eval_test_df = train_test_split(new_df, test_size=0.3, random_state=42, shuffle=True)\n",
        "eval_df, test_df = train_test_split(eval_test_df, test_size=0.5, random_state=42, shuffle=True)"
      ]
    },
    {
      "cell_type": "markdown",
      "metadata": {
        "id": "M4yiaT-xmWdZ"
      },
      "source": [
        "## Load pre-trained model and set args\n",
        "\n",
        "Here, we define the model type and set the arguments\n",
        "\n",
        "More configuration options can be found here: https://simpletransformers.ai/docs/usage/#configuring-a-simple-transformers-model"
      ]
    },
    {
      "cell_type": "code",
      "execution_count": null,
      "metadata": {
        "colab": {
          "base_uri": "https://localhost:8080/",
          "height": 282,
          "referenced_widgets": [
            "3d0980ef964a4c8da48829cec788ead2",
            "2fbbfca982aa4d378373975ba7b9e0e5",
            "7cd195d4d6374a1e81e0785307ed79af",
            "d9d6641a7ccf432abd175eda97b8f1ec",
            "6b73be79abfc4af09b79b4666746d639",
            "4fc6b57a4af24266b17312bfee3d94e0",
            "6b1b3e59133d49b587605791bca47188",
            "505d2feefce94feea3c911b41545e62d",
            "fec7cf65ea0d418ca0cfb1ae6358bd85",
            "08ce96a34f86465aba0839ebcea79e38",
            "010790a335e048bfa1192fe233f8e2b6",
            "dd9154d9d5754929bfeb5a30c099e6cc",
            "a68265202fdc4f9dbaba44b5ace0664b",
            "dd27845ed64f40249cb2f82cc3579efe",
            "c35d8742f7094730a8e90136cdc570c5",
            "b06a89045add409395c0936b239ce1e8",
            "f1ac7c40d2c344108a0a5b587058f337",
            "75f1103696c24717abb8699cd321318d",
            "7a686716e54144028305501477a59bdb",
            "166eabb6829646c4b3aa8625b108cc72",
            "d9f02ed5a36c4b3394cc723936a293cb",
            "e55fceec5c3d4174bb34be78545d7089",
            "8b047ac5e7e24856bb3704720a890592",
            "275d6f2869d14317b9da84fbd9cd10f2",
            "42a6f11bb8f64970ace1b8c7e4509349",
            "1cdde682706f4478ac1700fdd95c5b00",
            "902d5642cd1c47d790080ea3a5ea3942",
            "9814d02c0b434b91bd54a01a57422f50",
            "ab75e4e189594c7bb7da3a45c798c085",
            "8e34d64327fc49fa8ca76633ad7043fc",
            "1b2e20714c734d54aef98cf13132c9dd",
            "e71a0d6dc41a44528b16b33098fb174d",
            "0d23417fc71f492bae6e9209a0c16845",
            "5168882c21244fb482a238620d13c191",
            "f91219d5d5ce43c3a26d88d31325f440",
            "d1a101a4bb4d4f3c8a18802633ee6024",
            "92ca27b7deed4128b9f2ad8dc2cb3878",
            "29de0861bd504e3a8aca13dad0927386",
            "2c3260a9c89f4d7ab63db57756f2218b",
            "38742539c9e849cda477bbbabe59fb36",
            "7632bd585e2e4a9d99f47b0eeaab358b",
            "2ea87542f0a64932989aad43c562b2a0",
            "0796df4090ff45f0a7651f28b148c6ca",
            "70cd919a298f45eeb5f563a65d7d0b7f",
            "bee50d59c61a4ebabdfe96a8a31d1dd7",
            "8c044f96ca264d648d5c8feedcb5fe0f",
            "b63a5aebd2e540b4a5aab5e0af964038",
            "1d533883f22e453198a8b40615d89d55",
            "51490025cb5447d6bd3522ca3ba7be7a",
            "46a2df57e80645a48bd14ccee2929950",
            "67fd4b0f75ca49a79dbc35568f600a77",
            "4a846347408748898b14cb2ef2f1b24b",
            "a11c35a619fb4a49a584b4ba28f15a09",
            "10165736a1b942b0900cc84dba037d88",
            "96061f2265024be8a2c221fec0ef31a4"
          ]
        },
        "id": "Di0IaSEvmUBm",
        "outputId": "30516082-0e1e-467d-9b19-2965f6d8d0c8"
      },
      "outputs": [
        {
          "output_type": "display_data",
          "data": {
            "text/plain": [
              "Downloading:   0%|          | 0.00/746 [00:00<?, ?B/s]"
            ],
            "application/vnd.jupyter.widget-view+json": {
              "version_major": 2,
              "version_minor": 0,
              "model_id": "3d0980ef964a4c8da48829cec788ead2"
            }
          },
          "metadata": {}
        },
        {
          "output_type": "display_data",
          "data": {
            "text/plain": [
              "Downloading:   0%|          | 0.00/714M [00:00<?, ?B/s]"
            ],
            "application/vnd.jupyter.widget-view+json": {
              "version_major": 2,
              "version_minor": 0,
              "model_id": "dd9154d9d5754929bfeb5a30c099e6cc"
            }
          },
          "metadata": {}
        },
        {
          "output_type": "stream",
          "name": "stderr",
          "text": [
            "Some weights of the model checkpoint at NbAiLab/nb-bert-base were not used when initializing BertForMultiLabelSequenceClassification: ['cls.predictions.transform.LayerNorm.bias', 'cls.predictions.transform.dense.weight', 'cls.predictions.decoder.weight', 'cls.seq_relationship.bias', 'cls.seq_relationship.weight', 'cls.predictions.bias', 'cls.predictions.transform.LayerNorm.weight', 'cls.predictions.decoder.bias', 'cls.predictions.transform.dense.bias']\n",
            "- This IS expected if you are initializing BertForMultiLabelSequenceClassification from the checkpoint of a model trained on another task or with another architecture (e.g. initializing a BertForSequenceClassification model from a BertForPreTraining model).\n",
            "- This IS NOT expected if you are initializing BertForMultiLabelSequenceClassification from the checkpoint of a model that you expect to be exactly identical (initializing a BertForSequenceClassification model from a BertForSequenceClassification model).\n",
            "Some weights of BertForMultiLabelSequenceClassification were not initialized from the model checkpoint at NbAiLab/nb-bert-base and are newly initialized: ['classifier.bias', 'classifier.weight']\n",
            "You should probably TRAIN this model on a down-stream task to be able to use it for predictions and inference.\n"
          ]
        },
        {
          "output_type": "display_data",
          "data": {
            "text/plain": [
              "Downloading:   0%|          | 0.00/996k [00:00<?, ?B/s]"
            ],
            "application/vnd.jupyter.widget-view+json": {
              "version_major": 2,
              "version_minor": 0,
              "model_id": "8b047ac5e7e24856bb3704720a890592"
            }
          },
          "metadata": {}
        },
        {
          "output_type": "display_data",
          "data": {
            "text/plain": [
              "Downloading:   0%|          | 0.00/112 [00:00<?, ?B/s]"
            ],
            "application/vnd.jupyter.widget-view+json": {
              "version_major": 2,
              "version_minor": 0,
              "model_id": "5168882c21244fb482a238620d13c191"
            }
          },
          "metadata": {}
        },
        {
          "output_type": "display_data",
          "data": {
            "text/plain": [
              "Downloading:   0%|          | 0.00/363 [00:00<?, ?B/s]"
            ],
            "application/vnd.jupyter.widget-view+json": {
              "version_major": 2,
              "version_minor": 0,
              "model_id": "bee50d59c61a4ebabdfe96a8a31d1dd7"
            }
          },
          "metadata": {}
        }
      ],
      "source": [
        "model = MultiLabelClassificationModel(model_type=\"bert\",\n",
        "                                      model_name=\"NbAiLab/nb-bert-base\",\n",
        "                                      num_labels=9,\n",
        "                                      #use_cuda=True,\n",
        "                                      args={'train_batch_size': 8,\n",
        "                                            'eval_batch_size': 8,\n",
        "                                            'logging_steps': 10,\n",
        "                                            'evaluate_during_training': True,\n",
        "                                            'evaluate_during_training_steps': 1000,\n",
        "                                            'save_eval_checkpoints': False,\n",
        "                                            'learning_rate': 0.00003,\n",
        "                                            'num_train_epochs': 35, # since we use early stopping, epochs are not that important\n",
        "                                            'scheduler': 'cosine_schedule_with_warmup',\n",
        "                                            'fp16': True,\n",
        "                                            'wandb_project': \"free_topic\", # name of project in Weights & Biases\n",
        "                                        \n",
        "                                            # threshold\n",
        "                                            'threshold': 0.5,\n",
        "\n",
        "                                            # early stopping\n",
        "                                            'use_early_stopping': True,\n",
        "                                            'early_stopping_metric': 'f1_micro',\n",
        "                                            'early_stopping_metric_minimize': False,\n",
        "                                            'early_stopping_delta': 0.01,\n",
        "\n",
        "                                            # some args to prevent disk overload on Google Colab\n",
        "                                            'save_steps': -1,\n",
        "                                            'save_model_every_epoch': False,\n",
        "                                            'overwrite_output_dir': True\n",
        "                                            })\n"
      ]
    },
    {
      "cell_type": "markdown",
      "metadata": {
        "id": "aR6Sp9oGEHyG"
      },
      "source": [
        "##Metrics for evalution during training\n",
        "\n",
        "Wrapper functions for evaluation"
      ]
    },
    {
      "cell_type": "code",
      "execution_count": null,
      "metadata": {
        "id": "Iu5EgVC_SXd-"
      },
      "outputs": [],
      "source": [
        "# predictins > one-hot-encodings\n",
        "def get_pred(x):\n",
        "    if x >= 0.5:\n",
        "        return 1\n",
        "    return 0"
      ]
    },
    {
      "cell_type": "code",
      "execution_count": null,
      "metadata": {
        "id": "oBk_vhq3fz-7"
      },
      "outputs": [],
      "source": [
        "# f1 micro\n",
        "def f1_micro(labels, predictions):\n",
        "  preds = [[get_pred(pred) for pred in row] for row in predictions]\n",
        "  return f1_score(labels, preds, average=\"micro\")"
      ]
    },
    {
      "cell_type": "code",
      "execution_count": null,
      "metadata": {
        "id": "xOgpy_FGBZ1x"
      },
      "outputs": [],
      "source": [
        "# f1 macro\n",
        "def f1_macro(labels, predictions):\n",
        "  preds = [[get_pred(pred) for pred in row] for row in predictions]\n",
        "  return f1_score(labels, preds, average=\"macro\", zero_division=0)"
      ]
    },
    {
      "cell_type": "code",
      "source": [
        "# precision\n",
        "def precision(labels, predictions):\n",
        "  preds = [[get_pred(pred) for pred in row] for row in predictions]\n",
        "  return precision_score(labels, preds, average=\"micro\", zero_division=0)"
      ],
      "metadata": {
        "id": "xlIeI_karP_4"
      },
      "execution_count": null,
      "outputs": []
    },
    {
      "cell_type": "code",
      "source": [
        "# recall\n",
        "def recall(labels, predictions):\n",
        "  preds = [[get_pred(pred) for pred in row] for row in predictions]\n",
        "  return recall_score(labels, preds, average=\"micro\", zero_division=0)"
      ],
      "metadata": {
        "id": "hyWDL402rcg-"
      },
      "execution_count": null,
      "outputs": []
    },
    {
      "cell_type": "markdown",
      "metadata": {
        "id": "s32jCoadnFEL"
      },
      "source": [
        "## Fine-tuning\n",
        "\n",
        "And now for the fun part: fine-tuning!\n",
        "\n",
        "Find your project at Weights & Biases' website to follow your model's performance while training."
      ]
    },
    {
      "cell_type": "code",
      "execution_count": null,
      "metadata": {
        "colab": {
          "base_uri": "https://localhost:8080/",
          "height": 1000,
          "referenced_widgets": [
            "55388396db9449ab9e38530ac042b924",
            "c1da64269af143ee8425aae66ff65a75",
            "dad05f9dbe1446f892e2abe65af83d1d",
            "58ddce8be16a41d9b21ada960d787c47",
            "53081313f18641fe9300a02bfaed2484",
            "ba014c790b2f4455b6e5990e2f28bb2c",
            "c345f67ff566442a95a422774675fbf1",
            "44a4fe33a09f4f84a857b5630121e0e3",
            "4a62d90a01bf426fb4946c6a1fb98d0d",
            "ddd5bd6daa9a4470bd12e45a3f0c7813",
            "6e85cfea738946bd8836a6611b98cad2",
            "61b6af6fa65247fa84b9021ea60606db",
            "edafda2c8b9347a695ba7338459e600e",
            "fced51bfcf1e43ee81ebd8236ba715c6",
            "c7581acdd39d433a920e8b431b99a20d",
            "6bd4a8aabed94f32b8922f8496613b71",
            "3ba78fba73a44196a2944ef7e2c522a0",
            "cc117ed74ac547809294f1161c84ea89",
            "859c38735f434217b65f5d9b4ffbfa4d",
            "be277d0458b74bbdb27a0f61a6da765d",
            "e9925f61f6c14f56a2b1b114ab51a3c0",
            "ab575b70c780415685002c7b969b54b6",
            "4f34635e12b340efb226003673f17ef6",
            "1aa94bf262054922ae1befcfbf10548c",
            "e56e57b1dce74d4c8d3ac8f5baab62e4",
            "c8aa3a7b476845c48f05d9b969b27851",
            "b8d1e674d11b471986200029d1f309bb",
            "dd184b1cb76f4bef8d137beacc7915b4",
            "7b2714aa78574bbfa4092be4b4739f44",
            "e25ae49f1c9b401e8e09c5838d0ba4ba",
            "c5523d73bf774715b8ad1a26e783ca1e",
            "005c1a288eed4f0e874da8e447d19e4c",
            "dff470ab0cb84debb5a6d70d39826ac1",
            "30c9669209bb45759591343738334f54",
            "58fbba5184e54472b51886dc78e360da",
            "518b71c11aea420ab23ea0a6d0db9889",
            "c038178aba4b4d07b76d179eb5da1166",
            "3c0a55cdf08d4e9c80a2639c2e249aae",
            "4c96cf1d86324e72869ad38d13bf8d11",
            "237fd58cc54942b5a4675a3db3cd0e58",
            "2f75dbd3a7ca499ca6ec50463e054ef1",
            "a93393f1e3814afd8b6d68209c6fec1a",
            "3b5d836daec24525ac5dde8d0bdea4f9",
            "03e5604d7458444989807a17ba2f8b21",
            "20d24009e6684af2916d723365d22fca",
            "22186ea9e14d47aba1187b873f50e2d2",
            "564b56230c414751aa30e12c76c21cc7",
            "fa7f12667a4c4d90a4f2e793e73e55e2",
            "d3a8fc901f4d43f8a7c62f9cb25393e8",
            "f319e463565544d797db8c6548bc0ff4",
            "5a521191b30a49e49f7ac0788db112fb",
            "d397fa0047914f15be8815a372c534a4",
            "942eb70479c44d9f8a222bf5d01ddfbd",
            "f568f84bc655435bb03f6d428dda4035",
            "131c24dbc5ad4868883a260dea2b07a1",
            "641ac73df7e6487cbf72a7242d37b729",
            "5ac10df311604efd89a0a7fb28b58ff3",
            "f5967dc9e4a8437896010477b21a9495",
            "e31a42ef3a524b1a8f22ee61683b9743",
            "52fd4bd3377d450badfe0b860ca3bb12",
            "36ca5b89810d4c92bb071b8b5e490ec7",
            "11a5de3e6ae3480d841dc543f8daeee3",
            "afdaf7022d424a3dbde631c53f2ae2dc",
            "818e5cb643694a709ec0473797e32637",
            "e8c1a8273b9d4970a9d6a68c1027e064",
            "1c7d0b375acb4b7db626317c26dab573",
            "4c2be46b6b3d49079dd6dd39d8566af2",
            "39870e71665546969d755e80f066c1f5",
            "343c2fa558eb47f2811bde90ea101499",
            "d6eb54d032664962ac0205c272104138",
            "ce26c1eb0f074180a3cbc8bfd3f89da6",
            "c07c1c29d1d345dc89c4350611451c05",
            "ecdae9b94f564c8baa09c7e9eb731604",
            "5bd9e8862a824cd389fd980209f021e4",
            "425c87b1d5844049b84e34a56a1fdfe1",
            "d69612270541452abb0120229d526790",
            "87f8e953705f4a25857750ae1d69ecac",
            "141d8294752743afb7949293b1ed0d78",
            "9cc7ff080cf14036956f9f3104cadb5d",
            "ee614ff65f8a4b1cb7c69e6f3682e29e",
            "e2d65176513743a69389248f3f472013",
            "925a7acd484a4fef99fe8b39df695243",
            "01107853e4564b26a5f535c71637ce57",
            "480782222c544a89a0f7364180df95f4",
            "5bd08df678344b9899863a32f8662220",
            "c44119891f4b49af859e13906c1e66b6",
            "eae881e484944f96828c09b5f740857f",
            "4c652e6872ed4eb0aac16057860b55fe",
            "9a469a7a81c6492b9ab5bea1541a3999",
            "dda5d156f6f94330bd43af355a7f01ce",
            "f34f0427ba3c4044aa18d2226438ccd5",
            "5fb9b6d15ec5479db6826055be68cdfa",
            "dfa420424429463696ca28d66711d6e0",
            "693dddcde655433b89e567f3f3f725d1",
            "2ecd6c0751d94e509a4d74099e7e792b",
            "9081d57a03d3440381725cf4d244ee89",
            "39b6fc775abc4ca2a2e355a9f34793c4",
            "208eeae1bd594b2280775ddeeb75026c",
            "b61cbcc5c4424a3bb5a884efc8007d31",
            "d70a3ec381e94cc6b1bdf770b1ae829d",
            "31a18972e6194aba9bdaa6351bd49773",
            "3c95ae767df04b85abe53a6f9e2a97ca",
            "57a67395e43745989c4e5d0627c7d9ee",
            "d14ef707acf542179b35e4c9e2ee22f0",
            "29d31d4014a1433dbc099ce0dee63e8a",
            "9c4b856ce737428590b763866e2582d6",
            "a1f2c5718ce34458bd894cb1df0a9be4",
            "d718d44959f64b2f9737dc10682afeb1",
            "4171f19f95d24032b32ee3798445569a",
            "e160c8f0cf7e40cab6d1494fe068cb6c",
            "6cb7503cb75b44e29b1688af2be2fe78",
            "db472ac660d64cc2b3d915e3ed0b13de",
            "c8a98bff56bb472486c3f517a415c0e0",
            "d44e8ae67419474ba69a86a5acf461a3",
            "ea301823e8484087b4418ab4fb8f42d3",
            "80c989aa0c44490794aeae5602e8a88e",
            "2801c63769064a12b93fdf792e4287dc",
            "801c6e3d371547a9824107d931175865",
            "899541b317f3452281b30f69289e5e7e",
            "c78d87a96f954ee085a4738d4c478361",
            "d6c7e86470574a4184bb556bbc64e79a",
            "bc616913db8a4106986b64c1c7be267b",
            "b1bc4f7b01a74ed4ba14ea9de000efb4",
            "7862d3e53ffc45278478af74de86f30d",
            "fa4922544c60439e9bef2c08e30c41b2",
            "5da30a0649404e66ba373b0af52b43b8",
            "910f80732f5a41fe99f9d87a32f401b9",
            "8149a73098404dc58acadd321abb30eb",
            "0f6976f4baba4e7a88dae75f94f9e977",
            "b38eb1bbd3714d7ebaab8e666595cc94",
            "3c0bbc984ee449df86a19a4190a88e9c",
            "8d4b1542ad134a94be6667f623228af7",
            "bf62c4cdeb034664b45710aa0165e965",
            "95a9fef03afa466b91596a7ecd52aa00",
            "b557f1b6743f4e6d993661a833909f80",
            "851dbb31a0eb4489929d1b9b33a603f8",
            "b9e85866c18f4c5f9e20f2a9a8aaafed",
            "0d189006108741e49966b4f0a8d83c71",
            "8abea3dcfcba4cde9058fb94148b74f9",
            "f3c16b3f7b594b6faf59b7ea8240908b",
            "f3bbe61485f94d66a1c7b27a3853a878",
            "aadaa9b81eaf4524924a153fb710fd8c",
            "714e257c6b744b92984c86a392b2299f",
            "51a7e62dcb034af98b9c698945a19ffe",
            "b56be1e660a547e1b85f808918301242",
            "d0ae7e6b75e949eb9dae44056c9debab",
            "3fbc5995cdfd4e3996daab03ce09cace",
            "0f77bd7bcfc24a789956e9d2ea463f1a",
            "8aa3502d1be148fbbcc39c8cebd4b083",
            "744d4828fabe43b396c9038cc025eabc",
            "f65727ef8b504004a677da2c19c8b94b",
            "662fc44fc0cf4a21baf6d0f236010983",
            "a4d2c9b8740544feb199c2e481696e8c",
            "21b8caedd37d4e1282379af0683646c8",
            "6028b92c78ec437bb487a8dd12f11913",
            "9eb213bb7025405ea85d32d9192c2c67",
            "4f020f53fb554523ae3a93fbf678cadb",
            "d7b3f3bbd4254633b1fa4553c413aac8",
            "5e5d9374e66249d3bc97cc69dc5aa2f9",
            "d954d0705bc341a986dbaa7c5c5f12e2",
            "523b3b8ea4ab4668892b25e704c7dd18",
            "b8bd509d270d48339807538bed62a41f",
            "46eacfc5e3544899b410d874320ca55e",
            "c494833965634032a12b57e549a76dfe",
            "8e28b677d991437682abdf0115bb836f"
          ]
        },
        "id": "Fs_qie42nGPT",
        "outputId": "59964d7e-45de-4242-e713-21e6836b8940"
      },
      "outputs": [
        {
          "output_type": "display_data",
          "data": {
            "text/plain": [
              "  0%|          | 0/7702 [00:00<?, ?it/s]"
            ],
            "application/vnd.jupyter.widget-view+json": {
              "version_major": 2,
              "version_minor": 0,
              "model_id": "55388396db9449ab9e38530ac042b924"
            }
          },
          "metadata": {}
        },
        {
          "output_type": "display_data",
          "data": {
            "text/plain": [
              "Epoch:   0%|          | 0/35 [00:00<?, ?it/s]"
            ],
            "application/vnd.jupyter.widget-view+json": {
              "version_major": 2,
              "version_minor": 0,
              "model_id": "61b6af6fa65247fa84b9021ea60606db"
            }
          },
          "metadata": {}
        },
        {
          "output_type": "display_data",
          "data": {
            "text/plain": [
              "<IPython.core.display.HTML object>"
            ],
            "text/html": [
              "Finishing last run (ID:1n53ez5z) before initializing another..."
            ]
          },
          "metadata": {}
        },
        {
          "output_type": "display_data",
          "data": {
            "text/plain": [
              "<IPython.core.display.HTML object>"
            ],
            "text/html": [
              "Waiting for W&B process to finish... <strong style=\"color:green\">(success).</strong>"
            ]
          },
          "metadata": {}
        },
        {
          "output_type": "display_data",
          "data": {
            "text/plain": [
              "<IPython.core.display.HTML object>"
            ],
            "text/html": [
              "<style>\n",
              "    table.wandb td:nth-child(1) { padding: 0 10px; text-align: left ; width: auto;} td:nth-child(2) {text-align: left ; width: 100%}\n",
              "    .wandb-row { display: flex; flex-direction: row; flex-wrap: wrap; justify-content: flex-start; width: 100% }\n",
              "    .wandb-col { display: flex; flex-direction: column; flex-basis: 100%; flex: 1; padding: 10px; }\n",
              "    </style>\n",
              "<div class=\"wandb-row\"><div class=\"wandb-col\"><h3>Run history:</h3><br/><table class=\"wandb\"><tr><td>LRAP</td><td>▄▁▃▄▆▆▆█</td></tr><tr><td>Training loss</td><td>█▆▅▅▄▄▃▃▄▄▃▅▄▃▃▃▄▃▃▂▃▁▄▂▃▃▃▃▃▃▂▃▂▂▁▂▃▂▁▁</td></tr><tr><td>acc</td><td>▁▁▄▅▆▇▇█</td></tr><tr><td>eval_loss</td><td>▄▆▃▆▁▅▅█</td></tr><tr><td>f1_macro</td><td>▁▁▄▅▆▇▇█</td></tr><tr><td>f1_micro</td><td>▁▁▅▆▆█▇█</td></tr><tr><td>global_step</td><td>▁▁▁▁▂▂▂▂▂▃▃▃▃▃▄▄▄▄▄▄▅▅▅▅▅▅▆▆▆▆▆▇▇▇▇▇▇███</td></tr><tr><td>lr</td><td>▁▁▂▂▂▃▃▃▄▄▅▅▅▆▆▆▇▇▇█████████████████████</td></tr><tr><td>train_loss</td><td>▇▆█▆▅▃▄▁</td></tr></table><br/></div><div class=\"wandb-col\"><h3>Run summary:</h3><br/><table class=\"wandb\"><tr><td>LRAP</td><td>0.66008</td></tr><tr><td>Training loss</td><td>0.20991</td></tr><tr><td>acc</td><td>0.29545</td></tr><tr><td>eval_loss</td><td>0.38401</td></tr><tr><td>f1_macro</td><td>0.38654</td></tr><tr><td>f1_micro</td><td>0.45983</td></tr><tr><td>global_step</td><td>4000</td></tr><tr><td>lr</td><td>4e-05</td></tr><tr><td>train_loss</td><td>0.20991</td></tr></table><br/></div></div>"
            ]
          },
          "metadata": {}
        },
        {
          "output_type": "display_data",
          "data": {
            "text/plain": [
              "<IPython.core.display.HTML object>"
            ],
            "text/html": [
              "Synced <strong style=\"color:#cdcd00\">proud-universe-99</strong>: <a href=\"https://wandb.ai/trinesieweng/free_topic/runs/1n53ez5z\" target=\"_blank\">https://wandb.ai/trinesieweng/free_topic/runs/1n53ez5z</a><br/>Synced 5 W&B file(s), 0 media file(s), 0 artifact file(s) and 0 other file(s)"
            ]
          },
          "metadata": {}
        },
        {
          "output_type": "display_data",
          "data": {
            "text/plain": [
              "<IPython.core.display.HTML object>"
            ],
            "text/html": [
              "Find logs at: <code>./wandb/run-20221223_091747-1n53ez5z/logs</code>"
            ]
          },
          "metadata": {}
        },
        {
          "output_type": "display_data",
          "data": {
            "text/plain": [
              "<IPython.core.display.HTML object>"
            ],
            "text/html": [
              "Successfully finished last run (ID:1n53ez5z). Initializing new run:<br/>"
            ]
          },
          "metadata": {}
        },
        {
          "output_type": "display_data",
          "data": {
            "text/plain": [
              "<IPython.core.display.HTML object>"
            ],
            "text/html": [
              "Tracking run with wandb version 0.13.7"
            ]
          },
          "metadata": {}
        },
        {
          "output_type": "display_data",
          "data": {
            "text/plain": [
              "<IPython.core.display.HTML object>"
            ],
            "text/html": [
              "Run data is saved locally in <code>/content/wandb/run-20221223_094306-1bdsv0l5</code>"
            ]
          },
          "metadata": {}
        },
        {
          "output_type": "display_data",
          "data": {
            "text/plain": [
              "<IPython.core.display.HTML object>"
            ],
            "text/html": [
              "Syncing run <strong><a href=\"https://wandb.ai/trinesieweng/free_topic/runs/1bdsv0l5\" target=\"_blank\">pious-sponge-100</a></strong> to <a href=\"https://wandb.ai/trinesieweng/free_topic\" target=\"_blank\">Weights & Biases</a> (<a href=\"https://wandb.me/run\" target=\"_blank\">docs</a>)<br/>"
            ]
          },
          "metadata": {}
        },
        {
          "output_type": "display_data",
          "data": {
            "text/plain": [
              "Running Epoch 0 of 35:   0%|          | 0/963 [00:00<?, ?it/s]"
            ],
            "application/vnd.jupyter.widget-view+json": {
              "version_major": 2,
              "version_minor": 0,
              "model_id": "4f34635e12b340efb226003673f17ef6"
            }
          },
          "metadata": {}
        },
        {
          "output_type": "display_data",
          "data": {
            "text/plain": [
              "  0%|          | 0/1650 [00:00<?, ?it/s]"
            ],
            "application/vnd.jupyter.widget-view+json": {
              "version_major": 2,
              "version_minor": 0,
              "model_id": "30c9669209bb45759591343738334f54"
            }
          },
          "metadata": {}
        },
        {
          "output_type": "display_data",
          "data": {
            "text/plain": [
              "Running Epoch 1 of 35:   0%|          | 0/963 [00:00<?, ?it/s]"
            ],
            "application/vnd.jupyter.widget-view+json": {
              "version_major": 2,
              "version_minor": 0,
              "model_id": "20d24009e6684af2916d723365d22fca"
            }
          },
          "metadata": {}
        },
        {
          "output_type": "display_data",
          "data": {
            "text/plain": [
              "  0%|          | 0/1650 [00:00<?, ?it/s]"
            ],
            "application/vnd.jupyter.widget-view+json": {
              "version_major": 2,
              "version_minor": 0,
              "model_id": "641ac73df7e6487cbf72a7242d37b729"
            }
          },
          "metadata": {}
        },
        {
          "output_type": "display_data",
          "data": {
            "text/plain": [
              "  0%|          | 0/1650 [00:00<?, ?it/s]"
            ],
            "application/vnd.jupyter.widget-view+json": {
              "version_major": 2,
              "version_minor": 0,
              "model_id": "4c2be46b6b3d49079dd6dd39d8566af2"
            }
          },
          "metadata": {}
        },
        {
          "output_type": "display_data",
          "data": {
            "text/plain": [
              "Running Epoch 2 of 35:   0%|          | 0/963 [00:00<?, ?it/s]"
            ],
            "application/vnd.jupyter.widget-view+json": {
              "version_major": 2,
              "version_minor": 0,
              "model_id": "141d8294752743afb7949293b1ed0d78"
            }
          },
          "metadata": {}
        },
        {
          "output_type": "display_data",
          "data": {
            "text/plain": [
              "  0%|          | 0/1650 [00:00<?, ?it/s]"
            ],
            "application/vnd.jupyter.widget-view+json": {
              "version_major": 2,
              "version_minor": 0,
              "model_id": "9a469a7a81c6492b9ab5bea1541a3999"
            }
          },
          "metadata": {}
        },
        {
          "output_type": "display_data",
          "data": {
            "text/plain": [
              "  0%|          | 0/1650 [00:00<?, ?it/s]"
            ],
            "application/vnd.jupyter.widget-view+json": {
              "version_major": 2,
              "version_minor": 0,
              "model_id": "d70a3ec381e94cc6b1bdf770b1ae829d"
            }
          },
          "metadata": {}
        },
        {
          "output_type": "display_data",
          "data": {
            "text/plain": [
              "Running Epoch 3 of 35:   0%|          | 0/963 [00:00<?, ?it/s]"
            ],
            "application/vnd.jupyter.widget-view+json": {
              "version_major": 2,
              "version_minor": 0,
              "model_id": "6cb7503cb75b44e29b1688af2be2fe78"
            }
          },
          "metadata": {}
        },
        {
          "output_type": "display_data",
          "data": {
            "text/plain": [
              "  0%|          | 0/1650 [00:00<?, ?it/s]"
            ],
            "application/vnd.jupyter.widget-view+json": {
              "version_major": 2,
              "version_minor": 0,
              "model_id": "bc616913db8a4106986b64c1c7be267b"
            }
          },
          "metadata": {}
        },
        {
          "output_type": "display_data",
          "data": {
            "text/plain": [
              "  0%|          | 0/1650 [00:00<?, ?it/s]"
            ],
            "application/vnd.jupyter.widget-view+json": {
              "version_major": 2,
              "version_minor": 0,
              "model_id": "bf62c4cdeb034664b45710aa0165e965"
            }
          },
          "metadata": {}
        },
        {
          "output_type": "display_data",
          "data": {
            "text/plain": [
              "Running Epoch 4 of 35:   0%|          | 0/963 [00:00<?, ?it/s]"
            ],
            "application/vnd.jupyter.widget-view+json": {
              "version_major": 2,
              "version_minor": 0,
              "model_id": "51a7e62dcb034af98b9c698945a19ffe"
            }
          },
          "metadata": {}
        },
        {
          "output_type": "display_data",
          "data": {
            "text/plain": [
              "  0%|          | 0/1650 [00:00<?, ?it/s]"
            ],
            "application/vnd.jupyter.widget-view+json": {
              "version_major": 2,
              "version_minor": 0,
              "model_id": "6028b92c78ec437bb487a8dd12f11913"
            }
          },
          "metadata": {}
        },
        {
          "output_type": "execute_result",
          "data": {
            "text/plain": [
              "(4000,\n",
              " defaultdict(list,\n",
              "             {'global_step': [963, 1000, 1926, 2000, 2889, 3000, 3852, 4000],\n",
              "              'train_loss': [0.19289609789848328,\n",
              "               0.2765214145183563,\n",
              "               0.1013738140463829,\n",
              "               0.3968994915485382,\n",
              "               0.07656388729810715,\n",
              "               0.0854489654302597,\n",
              "               0.168007954955101,\n",
              "               0.11060543358325958],\n",
              "              'LRAP': [0.6919499759499771,\n",
              "               0.6932351851851861,\n",
              "               0.6894432178932194,\n",
              "               0.6950364838864852,\n",
              "               0.6862687830687841,\n",
              "               0.677319721019722,\n",
              "               0.6940655122655136,\n",
              "               0.6781250601250612],\n",
              "              'f1_micro': [0.5024653674571495,\n",
              "               0.5119815668202764,\n",
              "               0.5010716837342225,\n",
              "               0.5116700657149331,\n",
              "               0.5139664804469274,\n",
              "               0.5029345372460495,\n",
              "               0.5318270693026287,\n",
              "               0.5184204720935363],\n",
              "              'f1_macro': [0.43048617648167675,\n",
              "               0.43791753999846367,\n",
              "               0.4316118890462314,\n",
              "               0.4354545251908017,\n",
              "               0.44583966641320216,\n",
              "               0.4453951053429632,\n",
              "               0.4560088483103029,\n",
              "               0.4546032950651214],\n",
              "              'acc': [0.31575757575757574,\n",
              "               0.31696969696969696,\n",
              "               0.32181818181818184,\n",
              "               0.3145454545454546,\n",
              "               0.3103030303030303,\n",
              "               0.31333333333333335,\n",
              "               0.3278787878787879,\n",
              "               0.3206060606060606],\n",
              "              'eval_loss': [0.37276006486392826,\n",
              "               0.3813043736677239,\n",
              "               0.39005847656784426,\n",
              "               0.41966471151597257,\n",
              "               0.424461903779403,\n",
              "               0.4443399885282424,\n",
              "               0.4499613554509366,\n",
              "               0.4869332841197074]}))"
            ]
          },
          "metadata": {},
          "execution_count": 35
        }
      ],
      "source": [
        "model.train_model(train_df, eval_df=eval_df, f1_micro=f1_micro, f1_macro=f1_macro, precision=precision, recall=recall)"
      ]
    },
    {
      "cell_type": "markdown",
      "source": [
        "If you wish to save your model in Google Drive, you can connect in the cell below.\n",
        "\n",
        "When connected, go to the left panel and drag the \"output\" folder to your Drive folder."
      ],
      "metadata": {
        "id": "syQGvnuEssNC"
      }
    },
    {
      "cell_type": "code",
      "execution_count": null,
      "metadata": {
        "colab": {
          "base_uri": "https://localhost:8080/"
        },
        "id": "hd0TyJ0Wo51i",
        "outputId": "161a19ce-8468-47ce-b3ba-c2ca56c8a0d1"
      },
      "outputs": [
        {
          "output_type": "stream",
          "name": "stdout",
          "text": [
            "Mounted at /content/gdrive\n"
          ]
        }
      ],
      "source": [
        "from google.colab import drive\n",
        "drive.mount('/content/gdrive')"
      ]
    },
    {
      "cell_type": "markdown",
      "metadata": {
        "id": "NZ8Hp0t8XBFY"
      },
      "source": [
        "## Evaluate\n",
        "\n",
        "Now we will evaluate the performance of the fine-tuned BERT.\n",
        "\n",
        "You can uncomment the cell below if you want to evaluate a previous fine-tuned model. Otherwise, you can ignore it."
      ]
    },
    {
      "cell_type": "code",
      "execution_count": null,
      "metadata": {
        "id": "JA-s9VT6V-dF"
      },
      "outputs": [],
      "source": [
        "# uncomment the line below, if using a previous model\n",
        "#model = MultiLabelClassificationModel(\"bert\", \"gdrive/MyDrive/outputs/best_model\")"
      ]
    },
    {
      "cell_type": "code",
      "source": [
        "# test data for Danish, Norwegian, and Swedish\n",
        "test_df_da = test_df[test_df[\"language\"]==\"danish\"]\n",
        "test_df_no = test_df[test_df[\"language\"]==\"norwegian\"]\n",
        "test_df_sv = test_df[test_df[\"language\"]==\"swedish\"]"
      ],
      "metadata": {
        "id": "MPP7lq5xzZFI"
      },
      "execution_count": null,
      "outputs": []
    },
    {
      "cell_type": "code",
      "execution_count": null,
      "metadata": {
        "colab": {
          "base_uri": "https://localhost:8080/",
          "height": 529,
          "referenced_widgets": [
            "473c4194ec7640a4b2856c8a1e49f307",
            "6abe572415bd4f3fbab36cee9d361068",
            "f57eef7ad8c543b8902949383301dd74",
            "e7788f2d4b0243749f885b0ad1ea8a3f",
            "ac5d02a801024f9e86af03eeb614673f",
            "fadb3d3d7d164ec8b141f1a9e6f93442",
            "790de4f33ba44786b523d820671a2fdb",
            "68744d51bda34dfd83fdfe13ac884a26",
            "cb99eb71ee8c4372ad69747e883728f8",
            "365530fe7cf44f23958524ceaa11530f",
            "59d9a1a5c75f42f19e3d860d111943bc",
            "97a1806d69674701af4eddeb917f937e",
            "76d124f71eb14636a8dff3a169f5c768",
            "0cece77e581d46f3a23f30ac8ec0919c",
            "dd737021b442494e90c271909a024c02",
            "0e66c83a030e4da59c1ecd35ec11b5d8",
            "d56c1638ddef4fba9a85a53ec3d1a2d5",
            "0cbb01c2e0034e64b23f7fbe655d533c",
            "f29b2bcb6d1b481abff297c84a9b055d",
            "67b0fa72afa742f1b07b579d86892d68",
            "4d52367d92c24f439999c843855a2684",
            "f9ddb0350ba440a9bb7fd2eae29445ef",
            "43ce5fc81c584bb6b16c53a4245377c3",
            "89e14288dac34da2b999b65965fdf9e6",
            "7fb45573ed3647e89a289e5a19fa72f9",
            "621f84ebb29b4be1bb70c8d7f159e809",
            "8bb30fe8c3504378b5b2bc7d8125185c",
            "6d02db910cab406b81e28df40d270b7d",
            "977aa2378d3147909035b4e3d962f54c",
            "58052fcbd79f47bfaf9ddd5b8c9f3cca",
            "3f95eddc0dbc466a807b7a722ecd245b",
            "894b866cc2a047aebc5db005bcaa49df",
            "f1f98d5f7c3843b79a79690e246ec3da",
            "c258f044f4874210addc7e17d91c20e3",
            "80fbb0cdeedb4a0fa95872d27059c5e6",
            "d7c748263e9e41ac8686387b61167ac2",
            "4a73ae5744fa43ed98c39864441c0765",
            "84dc968680a84f52975a96cfcdf42d07",
            "60534d4f5edb45049648a2a9d28d435a",
            "7c4bbf58d04144daa0ffcfeffdf79623",
            "682eca75ddac4ef8a3fc4156b02ced5f",
            "ec866de42cd949ee8f992f9c205549a8",
            "a6bfa541f9644aac92c58f4a1351e811",
            "b3eafc7575c34e64bf62973cb68c80b4",
            "2a66f5085e07422c81ba3ea6424eac02",
            "f05474ecdcec44129ea679dcc0b5cdb0",
            "ca8c7fc9692f4188b9576ae2f3450074",
            "51c00a079e794f5ca719aef51afeb6b2",
            "cc41ab827a164be09cb3ddd9a22ce612",
            "defa2e56d96340c3b5e8d6a3cd6208c6",
            "538d388178bd47cabbb7381f911694dd",
            "ae5907602c9547f8970c84d82ed579cc",
            "1cb3feca31be41ab9ae484af79b89b55",
            "1adf5e8fa4a840c3823b410b34d0212f",
            "aaf53f2c8e8d42f594faf2525f2398d5",
            "aec99a2ada864741a383dd91c011fc10",
            "8d4f40bdb80f40f58d94f529867d6eae",
            "c469e2ef17ec4c60936f4b28ff2b0b87",
            "7f8bfcabd8d34f8f83eed6e1d1a3ddf4",
            "763b2d05f7374a93a0d3f5ecc300726f",
            "ada8da667542436386f75c4284f521ee",
            "8ce24c1eaf924f4f9c173a8c4ec70edf",
            "b9354769c8a64c4b96b62ccb3668a61b",
            "49b573b2db964c85a2f93b355bf6a33d",
            "b02227a2d4064cbcb9049a5343ede8b8",
            "aaffa084dfa0433d85ef67c55162501f",
            "3170473d470843f1bcea452b193d793f",
            "c2cf13bc24314eba9939e5fa61bf1583",
            "fca3aaed00fb4616a2dd23124b331604",
            "2de0494509b6404f8da0094ce4d72975",
            "6d6f4ff817ab478a800158f2f344031e",
            "b5de8e67c1e9457f9f0989ea65e912c7",
            "706050e39a2a41e5b94830c04abe7690",
            "2acad2ccd3fb44f1a40111ad94ea93f8",
            "b62a683b5b3440b0b56c0456feae4ed4",
            "1de29432f7654e7da6a39264dc38aab9",
            "8d05d9564c3743f38ca444e9d61a4268",
            "5304a9fb1ea945dd9fd334b0f8505cdb",
            "acd9bdb6ab204573a901ad7da450d2fe",
            "933a78c0d118428f9c62e44c233a2464",
            "50ae1410f23d4f6b9f6c263b6aaa7eb5",
            "54b617aa430a466095e5e305cc50729c",
            "6aef446040334b349020ca1b5509fc65",
            "19af334ecba9423a9d6d9dc98db6337e",
            "52d663a4e3a74dc19998d530330f734a",
            "2b1f3bf68df946a2b916cd0dd2bb23bf",
            "b01ed3c223d54eeb8860b3efbda496fa",
            "4b90cd10ad4e47189af18582931eafcd",
            "679b3a8a1b1e4406a67b730a2266a35b",
            "6657ee6c64774c499a40457183f46a9e",
            "40862375d9ef4df3a8adb394f5d091f8",
            "77a4999d7fb5465fbcd084645f9cfcd7",
            "3eaffccaca7c4da389db9ab7a24e56f2",
            "4778a97a78d14f95b69bebc5f46851f9",
            "d9c1d00b5d5a44bd9d89a1b57bb9af24",
            "e2a3aef87ddf41fba6b898fba730fc99",
            "534ae8cb667d440f95a403441e1a1cd9",
            "656824c00d4f4ec1983a4db9176fbe45",
            "e1f04e3c1e4144d5ae82c7205c1efbdc",
            "5acee6ba746142bea515627388c7a236",
            "cc3a247efea64c4daeef15d1e15065d7",
            "0c3c7fd27a5d4283a9360dcb2ba54afc",
            "ff9613bebd8a4a24b5303edf79d8fe7b",
            "eb98642451d84b4287dbd926aae60237",
            "55f9bd22169f4b97a2dd418f28275255",
            "20f5f7a14a6647ce9468395806443936",
            "1c4d0a43d4e0468d894b920886f9e17d",
            "a85593d4bd854d728b9f1e60dcbe61a0",
            "98aecac479a94961a2967c86b493695b",
            "a03fd9f2dac24a75955afd287d5e04d2",
            "6564103265634a55a78088723b92b8b6",
            "02e84feea80348dd90ee75e69091bfcc",
            "ce853339d3a440a0a033daac55aef512",
            "3eaaabca7e6146ce99afa491bd23666a",
            "daedc77b4df34f4db20c4529ad098b9c",
            "1242a62ba268466f835650f6ce9ac7ca",
            "06a70eb22302452490107f4b921161be",
            "4ce3ba029e474fd48461aedc261b089d",
            "d4b4d95d3a53479ea783761c69ac6522",
            "2dc11df2f1474e52a838874582313717",
            "71e3cd8e643c49c792500dedc82ae2fd",
            "9d8a732e45944849b1888333a1fd6e1f",
            "e5d88521be184de09e3c373a26b583eb",
            "e81416a07aa74f1493d31c775a360c07",
            "1695ac6b74fe4027ad3eb4ccbbffb9e0",
            "6a57555e4eed4ae48bce4d878db6b8ea",
            "f22fdeefa9b842acb8b4e084a61f21fd",
            "1ebc45af9c484d99bb3893999cb88a5c",
            "f06c3393c99a42849d00edce6217d6c4",
            "126ae95f9e994d94b23aa0c6f4ffaef7",
            "729add36c0e64b5b8e66454b0f59b442",
            "d517d0fcd1c046e8950633d93bf65e26",
            "dd007df40cf2433ab7f594509d4e3cbb",
            "7367b96dce6145d49b92b5732ea5793d",
            "5c4da984bf7d4c41bc9fd692d2851b7f",
            "f9fddd76483e44edb8d1fa50c1a54785",
            "8695088d524f4db4b435d3132338175e",
            "4fcf9bd9ff33417780ef1525f18144be",
            "5292d08d2b52477caeb09985d425238f",
            "5dc20f22eb94413f83c6bceb07c0b9e4",
            "757a5b51b06949019ed17b82944df264",
            "89174baf2c454a34a81b7c0414c193cf",
            "643056adea38495c9ab46fde32afda5c",
            "43a97b211495408eac1fcd5b4123c28a",
            "a399a9093aff4482a393557a9f0e3d36",
            "3b13d3ebb1e04bb291fb325edd9e10fb",
            "b7e5a6be3a874fd399674a17f901b41b",
            "64f7cbcfc8b6497e9b4057972f49614e",
            "d264c6e621b540a2a56df098277347ea",
            "a9d1222ccb0e48bd889225765df83561",
            "fcf8ce58c29642179e5424cf73855318",
            "ac9833f21ed34a63b00c62660cc7624d",
            "9057cd5047fc4317a54c715f91e39d48",
            "730c26e7fc3a4e7a984414335155a3c8",
            "c78132b5e5574a9993a89515e218faf4",
            "57902be024bb424da7393fb4b89adb66",
            "09fe53634c404f7c99a023dcfb343d36",
            "2bd5e68d008d4bd2939eb135c5889418",
            "729d3c954853440ab2ff4e1f6efa5fbc",
            "179f20bb5fee4fd1aacb4df3c5c201ea",
            "20b0cb9951104efab7d192e1656b6060",
            "9ba146f834bd4e18889f522f15c68b77",
            "b14400dc94764ea6a811c0e20d0cb135",
            "ee7ae41a3cb14f2caf582b85c40a12a0",
            "943904036ac2430d8beabac29798a500",
            "79f47ab0a7ff4f4ba652c73b652d0364",
            "8804622aaa104905b85aa8f9dfe81736",
            "034ca60e439f4071bc0c0103a013a608",
            "bda5906d8fc248aba5f18c8ea0db0479",
            "d60659be0bd648b7b14c0512971fe057",
            "54b93bf2965f43a29b67903d7061ef97",
            "120fd927215342dc829690ee5704d6f5",
            "55803e93ceb84d738009e9c79c650f2a",
            "ea539fce989948c986729c348404299b",
            "5e632d9f539540b89db9aa260441db40",
            "5b765a92df70481ba0350f016c32dfb1"
          ]
        },
        "id": "hTAQwZ40HH0p",
        "outputId": "04e4fecd-c8c5-409b-9ec5-ae2491d5a18e"
      },
      "outputs": [
        {
          "output_type": "display_data",
          "data": {
            "text/plain": [
              "  0%|          | 0/1651 [00:00<?, ?it/s]"
            ],
            "application/vnd.jupyter.widget-view+json": {
              "version_major": 2,
              "version_minor": 0,
              "model_id": "473c4194ec7640a4b2856c8a1e49f307"
            }
          },
          "metadata": {}
        },
        {
          "output_type": "display_data",
          "data": {
            "text/plain": [
              "Running Evaluation:   0%|          | 0/207 [00:00<?, ?it/s]"
            ],
            "application/vnd.jupyter.widget-view+json": {
              "version_major": 2,
              "version_minor": 0,
              "model_id": "97a1806d69674701af4eddeb917f937e"
            }
          },
          "metadata": {}
        },
        {
          "output_type": "display_data",
          "data": {
            "text/plain": [
              "  0%|          | 0/284 [00:00<?, ?it/s]"
            ],
            "application/vnd.jupyter.widget-view+json": {
              "version_major": 2,
              "version_minor": 0,
              "model_id": "43ce5fc81c584bb6b16c53a4245377c3"
            }
          },
          "metadata": {}
        },
        {
          "output_type": "display_data",
          "data": {
            "text/plain": [
              "Running Evaluation:   0%|          | 0/36 [00:00<?, ?it/s]"
            ],
            "application/vnd.jupyter.widget-view+json": {
              "version_major": 2,
              "version_minor": 0,
              "model_id": "c258f044f4874210addc7e17d91c20e3"
            }
          },
          "metadata": {}
        },
        {
          "output_type": "display_data",
          "data": {
            "text/plain": [
              "  0%|          | 0/639 [00:00<?, ?it/s]"
            ],
            "application/vnd.jupyter.widget-view+json": {
              "version_major": 2,
              "version_minor": 0,
              "model_id": "2a66f5085e07422c81ba3ea6424eac02"
            }
          },
          "metadata": {}
        },
        {
          "output_type": "display_data",
          "data": {
            "text/plain": [
              "Running Evaluation:   0%|          | 0/80 [00:00<?, ?it/s]"
            ],
            "application/vnd.jupyter.widget-view+json": {
              "version_major": 2,
              "version_minor": 0,
              "model_id": "aec99a2ada864741a383dd91c011fc10"
            }
          },
          "metadata": {}
        },
        {
          "output_type": "display_data",
          "data": {
            "text/plain": [
              "  0%|          | 0/728 [00:00<?, ?it/s]"
            ],
            "application/vnd.jupyter.widget-view+json": {
              "version_major": 2,
              "version_minor": 0,
              "model_id": "3170473d470843f1bcea452b193d793f"
            }
          },
          "metadata": {}
        },
        {
          "output_type": "display_data",
          "data": {
            "text/plain": [
              "Running Evaluation:   0%|          | 0/91 [00:00<?, ?it/s]"
            ],
            "application/vnd.jupyter.widget-view+json": {
              "version_major": 2,
              "version_minor": 0,
              "model_id": "5304a9fb1ea945dd9fd334b0f8505cdb"
            }
          },
          "metadata": {}
        },
        {
          "output_type": "display_data",
          "data": {
            "text/plain": [
              "  0%|          | 0/1651 [00:00<?, ?it/s]"
            ],
            "application/vnd.jupyter.widget-view+json": {
              "version_major": 2,
              "version_minor": 0,
              "model_id": "679b3a8a1b1e4406a67b730a2266a35b"
            }
          },
          "metadata": {}
        },
        {
          "output_type": "display_data",
          "data": {
            "text/plain": [
              "Running Evaluation:   0%|          | 0/207 [00:00<?, ?it/s]"
            ],
            "application/vnd.jupyter.widget-view+json": {
              "version_major": 2,
              "version_minor": 0,
              "model_id": "5acee6ba746142bea515627388c7a236"
            }
          },
          "metadata": {}
        },
        {
          "output_type": "display_data",
          "data": {
            "text/plain": [
              "  0%|          | 0/284 [00:00<?, ?it/s]"
            ],
            "application/vnd.jupyter.widget-view+json": {
              "version_major": 2,
              "version_minor": 0,
              "model_id": "6564103265634a55a78088723b92b8b6"
            }
          },
          "metadata": {}
        },
        {
          "output_type": "display_data",
          "data": {
            "text/plain": [
              "Running Evaluation:   0%|          | 0/36 [00:00<?, ?it/s]"
            ],
            "application/vnd.jupyter.widget-view+json": {
              "version_major": 2,
              "version_minor": 0,
              "model_id": "9d8a732e45944849b1888333a1fd6e1f"
            }
          },
          "metadata": {}
        },
        {
          "output_type": "display_data",
          "data": {
            "text/plain": [
              "  0%|          | 0/639 [00:00<?, ?it/s]"
            ],
            "application/vnd.jupyter.widget-view+json": {
              "version_major": 2,
              "version_minor": 0,
              "model_id": "dd007df40cf2433ab7f594509d4e3cbb"
            }
          },
          "metadata": {}
        },
        {
          "output_type": "display_data",
          "data": {
            "text/plain": [
              "Running Evaluation:   0%|          | 0/80 [00:00<?, ?it/s]"
            ],
            "application/vnd.jupyter.widget-view+json": {
              "version_major": 2,
              "version_minor": 0,
              "model_id": "43a97b211495408eac1fcd5b4123c28a"
            }
          },
          "metadata": {}
        },
        {
          "output_type": "display_data",
          "data": {
            "text/plain": [
              "  0%|          | 0/728 [00:00<?, ?it/s]"
            ],
            "application/vnd.jupyter.widget-view+json": {
              "version_major": 2,
              "version_minor": 0,
              "model_id": "c78132b5e5574a9993a89515e218faf4"
            }
          },
          "metadata": {}
        },
        {
          "output_type": "display_data",
          "data": {
            "text/plain": [
              "Running Evaluation:   0%|          | 0/91 [00:00<?, ?it/s]"
            ],
            "application/vnd.jupyter.widget-view+json": {
              "version_major": 2,
              "version_minor": 0,
              "model_id": "79f47ab0a7ff4f4ba652c73b652d0364"
            }
          },
          "metadata": {}
        }
      ],
      "source": [
        "# compute predictions on test set\n",
        "\n",
        "# all\n",
        "result, model_outputs, wrong_preds = model.eval_model(test_df)\n",
        "\n",
        "# danish\n",
        "result_da, model_outputs_da, wrong_preds_da = model.eval_model(test_df_da)\n",
        "\n",
        "# norwegian\n",
        "result_no, model_outputs_no, wrong_preds_no = model.eval_model(test_df_no)\n",
        "\n",
        "# swedish\n",
        "result_sv, model_outputs_sv, wrong_preds_sv = model.eval_model(test_df_sv)"
      ]
    },
    {
      "cell_type": "code",
      "execution_count": null,
      "metadata": {
        "colab": {
          "base_uri": "https://localhost:8080/"
        },
        "id": "bnDOdTU7S327",
        "outputId": "6876911a-59ed-48a6-bd68-160fe9a672c2"
      },
      "outputs": [
        {
          "output_type": "stream",
          "name": "stdout",
          "text": [
            "--- ALL ---\n",
            "Precision: 0.5509467989179441\n",
            "Recall: 0.502880658436214\n",
            "F1 micro: 0.5258175559380378\n",
            "F1 macro: 0.4586253985613372\n",
            "Accuracy: 0.3052695336159903\n",
            "Support: 1651\n",
            "\n",
            "--- DANISH ---\n",
            "Precision: 0.5892857142857143\n",
            "Recall: 0.5397196261682243\n",
            "F1 micro: 0.5634146341463415\n",
            "F1 macro: 0.4882946296509172\n",
            "Accuracy: 0.3415492957746479\n",
            "Support: 284\n",
            "\n",
            "--- NORWEGIAN ---\n",
            "Precision: 0.5518044237485448\n",
            "Recall: 0.5163398692810458\n",
            "F1 micro: 0.5334833989870568\n",
            "F1 macro: 0.46717209176539864\n",
            "Accuracy: 0.29890453834115804\n",
            "Support: 639\n",
            "\n",
            "--- SWEDISH ---\n",
            "Precision: 0.5346432264736298\n",
            "Recall: 0.4769372693726937\n",
            "F1 micro: 0.5041443198439786\n",
            "F1 macro: 0.4378535479204533\n",
            "Accuracy: 0.2967032967032967\n",
            "Support: 728\n"
          ]
        }
      ],
      "source": [
        "# compute performance\n",
        "\n",
        "# all\n",
        "predictions = [[get_pred(pred) for pred in row] for row in model_outputs]\n",
        "print(\"--- ALL ---\")\n",
        "print(\"Precision:\", precision_score(test_df[\"labels\"].to_list(), predictions, average=\"micro\"))\n",
        "print(\"Recall:\", recall_score(test_df[\"labels\"].to_list(), predictions, average=\"micro\"))\n",
        "print(\"F1 micro:\", f1_score(test_df[\"labels\"].to_list(), predictions, average=\"micro\"))\n",
        "print(\"F1 macro:\", f1_score(test_df[\"labels\"].to_list(), predictions, average=\"macro\", zero_division=0))\n",
        "print(\"Accuracy:\", accuracy_score(test_df[\"labels\"].to_list(), predictions))\n",
        "print(\"Support:\", len(test_df))\n",
        "\n",
        "# danish\n",
        "predictions_da = [[get_pred(pred) for pred in row] for row in model_outputs_da]\n",
        "print(\"\\n--- DANISH ---\")\n",
        "print(\"Precision:\", precision_score(test_df_da[\"labels\"].to_list(), predictions_da, average=\"micro\"))\n",
        "print(\"Recall:\", recall_score(test_df_da[\"labels\"].to_list(), predictions_da, average=\"micro\"))\n",
        "print(\"F1 micro:\", f1_score(test_df_da[\"labels\"].to_list(), predictions_da, average=\"micro\"))\n",
        "print(\"F1 macro:\", f1_score(test_df_da[\"labels\"].to_list(), predictions_da, average=\"macro\", zero_division=0))\n",
        "print(\"Accuracy:\", accuracy_score(test_df_da[\"labels\"].to_list(), predictions_da))\n",
        "print(\"Support:\", len(test_df_da))\n",
        "\n",
        "# norwegian\n",
        "predictions_no = [[get_pred(pred) for pred in row] for row in model_outputs_no]\n",
        "print(\"\\n--- NORWEGIAN ---\")\n",
        "print(\"Precision:\", precision_score(test_df_no[\"labels\"].to_list(), predictions_no, average=\"micro\"))\n",
        "print(\"Recall:\", recall_score(test_df_no[\"labels\"].to_list(), predictions_no, average=\"micro\"))\n",
        "print(\"F1 micro:\", f1_score(test_df_no[\"labels\"].to_list(), predictions_no, average=\"micro\"))\n",
        "print(\"F1 macro:\", f1_score(test_df_no[\"labels\"].to_list(), predictions_no, average=\"macro\", zero_division=0))\n",
        "print(\"Accuracy:\", accuracy_score(test_df_no[\"labels\"].to_list(), predictions_no))\n",
        "print(\"Support:\", len(test_df_no))\n",
        "\n",
        "# swedish\n",
        "predictions_sv = [[get_pred(pred) for pred in row] for row in model_outputs_sv]\n",
        "print(\"\\n--- SWEDISH ---\")\n",
        "print(\"Precision:\", precision_score(test_df_sv[\"labels\"].to_list(), predictions_sv, average=\"micro\"))\n",
        "print(\"Recall:\", recall_score(test_df_sv[\"labels\"].to_list(), predictions_sv, average=\"micro\"))\n",
        "print(\"F1 micro:\", f1_score(test_df_sv[\"labels\"].to_list(), predictions_sv, average=\"micro\"))\n",
        "print(\"F1 macro:\", f1_score(test_df_sv[\"labels\"].to_list(), predictions_sv, average=\"macro\", zero_division=0))\n",
        "print(\"Accuracy:\", accuracy_score(test_df_sv[\"labels\"].to_list(), predictions_sv))\n",
        "print(\"Support:\", len(test_df_sv))\n"
      ]
    },
    {
      "cell_type": "code",
      "source": [
        "# compute performance for each class/emotion\n",
        "\n",
        "classification_report(\n",
        "    test_df[\"labels\"].to_list(),\n",
        "    predictions,\n",
        "    zero_division=0,\n",
        "    output_dict=True,\n",
        "    target_names=['Neutral', 'Anger', 'Anticipation', 'Disgust','Fear', 'Joy', 'Sadness', 'Surprise', 'Trust'])"
      ],
      "metadata": {
        "colab": {
          "base_uri": "https://localhost:8080/"
        },
        "id": "b9cdHvLcK6oe",
        "outputId": "4d7a85cd-42c0-49b7-ea0f-85ba2d5b5595"
      },
      "execution_count": null,
      "outputs": [
        {
          "output_type": "execute_result",
          "data": {
            "text/plain": [
              "{'Neutral': {'precision': 0.0, 'recall': 0.0, 'f1-score': 0.0, 'support': 0},\n",
              " 'Anger': {'precision': 0.5669856459330144,\n",
              "  'recall': 0.5524475524475524,\n",
              "  'f1-score': 0.5596221959858323,\n",
              "  'support': 429},\n",
              " 'Anticipation': {'precision': 0.7563025210084033,\n",
              "  'recall': 0.4368932038834951,\n",
              "  'f1-score': 0.5538461538461538,\n",
              "  'support': 412},\n",
              " 'Disgust': {'precision': 0.41875,\n",
              "  'recall': 0.3435897435897436,\n",
              "  'f1-score': 0.3774647887323943,\n",
              "  'support': 195},\n",
              " 'Fear': {'precision': 0.5023041474654378,\n",
              "  'recall': 0.4759825327510917,\n",
              "  'f1-score': 0.48878923766816146,\n",
              "  'support': 229},\n",
              " 'Joy': {'precision': 0.6909871244635193,\n",
              "  'recall': 0.503125,\n",
              "  'f1-score': 0.5822784810126582,\n",
              "  'support': 320},\n",
              " 'Sadness': {'precision': 0.5674740484429066,\n",
              "  'recall': 0.5795053003533569,\n",
              "  'f1-score': 0.5734265734265734,\n",
              "  'support': 283},\n",
              " 'Surprise': {'precision': 0.4143920595533499,\n",
              "  'recall': 0.6254681647940075,\n",
              "  'f1-score': 0.4985074626865672,\n",
              "  'support': 267},\n",
              " 'Trust': {'precision': 0.5269230769230769,\n",
              "  'recall': 0.46440677966101696,\n",
              "  'f1-score': 0.4936936936936937,\n",
              "  'support': 295},\n",
              " 'micro avg': {'precision': 0.5509467989179441,\n",
              "  'recall': 0.502880658436214,\n",
              "  'f1-score': 0.5258175559380378,\n",
              "  'support': 2430},\n",
              " 'macro avg': {'precision': 0.4937909581988565,\n",
              "  'recall': 0.44237980860891823,\n",
              "  'f1-score': 0.4586253985613372,\n",
              "  'support': 2430},\n",
              " 'weighted avg': {'precision': 0.5758491373090664,\n",
              "  'recall': 0.502880658436214,\n",
              "  'f1-score': 0.527222581511147,\n",
              "  'support': 2430},\n",
              " 'samples avg': {'precision': 0.5465302414121311,\n",
              "  'recall': 0.5231980617807389,\n",
              "  'f1-score': 0.5087620603368636,\n",
              "  'support': 2430}}"
            ]
          },
          "metadata": {},
          "execution_count": 42
        }
      ]
    },
    {
      "cell_type": "markdown",
      "source": [
        "## Plot performance"
      ],
      "metadata": {
        "id": "qhdkMVqzMKgd"
      }
    },
    {
      "cell_type": "code",
      "source": [
        "# multilabel confusion matrix\n",
        "cm = multilabel_confusion_matrix(test_df[\"labels\"].to_list(), predictions, labels=[0,1,2,3,4,5,6,7,8])"
      ],
      "metadata": {
        "id": "DUt9y195Hm_S"
      },
      "execution_count": null,
      "outputs": []
    },
    {
      "cell_type": "code",
      "source": [
        "# normalize confusion matrix over true labels\n",
        "percentages = []\n",
        "for i in cm:\n",
        "  for row in i:\n",
        "    left = np.round(row[0]/(row[0]+row[1]), decimals=3)\n",
        "    right = np.round(row[1]/(row[0]+row[1]), decimals=3)\n",
        "    percentages.append(left)\n",
        "    percentages.append(right)\n",
        "\n",
        "cm = np.array(percentages).reshape(-1,2,2)[1:] # drop neutral"
      ],
      "metadata": {
        "colab": {
          "base_uri": "https://localhost:8080/"
        },
        "id": "4u7pahCWr01R",
        "outputId": "d0c20ab4-6847-4983-fd27-2bd7dd600860"
      },
      "execution_count": null,
      "outputs": [
        {
          "output_type": "stream",
          "name": "stderr",
          "text": [
            "<ipython-input-46-c7a7492150d2>:4: RuntimeWarning: invalid value encountered in long_scalars\n",
            "  left = np.round(row[0]/(row[0]+row[1]), decimals=3)\n",
            "<ipython-input-46-c7a7492150d2>:5: RuntimeWarning: invalid value encountered in long_scalars\n",
            "  right = np.round(row[1]/(row[0]+row[1]), decimals=3)\n"
          ]
        }
      ]
    },
    {
      "cell_type": "code",
      "source": [
        "# plot confusion matrix for each class/emotion\n",
        "for confusion_matrix in cm:\n",
        "    disp = ConfusionMatrixDisplay(confusion_matrix)\n",
        "    disp.plot(include_values=True, cmap=\"Blues\", ax=None, xticks_rotation=\"vertical\")\n",
        "    plt.show()"
      ],
      "metadata": {
        "colab": {
          "base_uri": "https://localhost:8080/",
          "height": 1000
        },
        "id": "JBNxVLyeNWeD",
        "outputId": "a53f55ee-2ac3-4daa-9f38-93a7bb35b086"
      },
      "execution_count": null,
      "outputs": [
        {
          "output_type": "display_data",
          "data": {
            "text/plain": [
              "<Figure size 432x288 with 2 Axes>"
            ],
            "image/png": "[encoded data removed]"
          },
          "metadata": {
            "needs_background": "light"
          }
        },
        {
          "output_type": "display_data",
          "data": {
            "text/plain": [
              "<Figure size 432x288 with 2 Axes>"
            ],
            "image/png": "[encoded data removed]"
          },
          "metadata": {
            "needs_background": "light"
          }
        },
        {
          "output_type": "display_data",
          "data": {
            "text/plain": [
              "<Figure size 432x288 with 2 Axes>"
            ],
            "image/png": "[encoded data removed]"
          },
          "metadata": {
            "needs_background": "light"
          }
        },
        {
          "output_type": "display_data",
          "data": {
            "text/plain": [
              "<Figure size 432x288 with 2 Axes>"
            ],
            "image/png": "[encoded data removed]"
          },
          "metadata": {
            "needs_background": "light"
          }
        },
        {
          "output_type": "display_data",
          "data": {
            "text/plain": [
              "<Figure size 432x288 with 2 Axes>"
            ],
            "image/png": "[encoded data removed]"
          },
          "metadata": {
            "needs_background": "light"
          }
        },
        {
          "output_type": "display_data",
          "data": {
            "text/plain": [
              "<Figure size 432x288 with 2 Axes>"
            ],
            "image/png": "[encoded data removed]"
          },
          "metadata": {
            "needs_background": "light"
          }
        },
        {
          "output_type": "display_data",
          "data": {
            "text/plain": [
              "<Figure size 432x288 with 2 Axes>"
            ],
            "image/png": "[encoded data removed]"
          },
          "metadata": {
            "needs_background": "light"
          }
        },
        {
          "output_type": "display_data",
          "data": {
            "text/plain": [
              "<Figure size 432x288 with 2 Axes>"
            ],
            "image/png": "[encoded data removed]"
          },
          "metadata": {
            "needs_background": "light"
          }
        }
      ]
    },
    {
      "cell_type": "markdown",
      "metadata": {
        "id": "fxMxR22VYoO4"
      },
      "source": [
        "## Predict\n",
        "\n",
        "Here, you can try out the model yourself. Remember, that the predicitions are one-hot-encoded. Here is the correspondence between indices and classes:\n",
        "\n",
        "*   0: Neutral\n",
        "*   1: Anger\n",
        "*   2: Anticipation\n",
        "*   3: Disgust\n",
        "*   4: Fear\n",
        "*   5: Joy\n",
        "*   6: Sadness\n",
        "*   7: Surprise\n",
        "*   8: Trust\n",
        "\n",
        "Have fun!"
      ]
    },
    {
      "cell_type": "code",
      "execution_count": null,
      "metadata": {
        "colab": {
          "base_uri": "https://localhost:8080/",
          "height": 132,
          "referenced_widgets": [
            "10de35c573f74b7caa7237c3d332e95e",
            "c55a0f6d62904a82b973cdd529d2a79b",
            "2682338a33e049dcaa186a30637b32bc",
            "553d6b03b59b4d1a8ddbd3b90d7f37fe",
            "85cfc2cff6e14a488ed435615556498e",
            "fa60b4e558c4461bb08364830b048931",
            "4ffdedb55f0d44d7ab175eff69a4803f",
            "647506d08afb4daf93f366de46cd3452",
            "c70d05903efc4cc89157372ea07c3b11",
            "2a24c55cf8a94794a5a443651c5a03df",
            "82d25d058be0445d8043ca1a5495d7f8",
            "f4a6154ece7a41d19810e615ea2efd3e",
            "29be5d746eeb4ee5b18a175eb2e23647",
            "55b15de617dd48ba97af2f305a269f9d",
            "00668409ea3f4d57b74a9f95d022f347",
            "12192e7a1fd3438cae62a35279ace641",
            "efdc876903c84512a5072381b3989678",
            "55ccc10cb076416294aad5bd20b47245",
            "dbbf6926f1614b31bace3e1ad675dccf",
            "0680321b2a7a49f98de85f2b5b9d84a6",
            "5732cf8e26984b06a333794039fd23e9",
            "39247baf481f47e18db2c7432a8cffee"
          ]
        },
        "id": "GSS1yfKlWF0P",
        "outputId": "6ba6f399-d01a-4719-b9b8-b174b39b10d9"
      },
      "outputs": [
        {
          "output_type": "display_data",
          "data": {
            "text/plain": [
              "  0%|          | 0/1 [00:00<?, ?it/s]"
            ],
            "application/vnd.jupyter.widget-view+json": {
              "version_major": 2,
              "version_minor": 0,
              "model_id": "10de35c573f74b7caa7237c3d332e95e"
            }
          },
          "metadata": {}
        },
        {
          "output_type": "display_data",
          "data": {
            "text/plain": [
              "  0%|          | 0/1 [00:00<?, ?it/s]"
            ],
            "application/vnd.jupyter.widget-view+json": {
              "version_major": 2,
              "version_minor": 0,
              "model_id": "f4a6154ece7a41d19810e615ea2efd3e"
            }
          },
          "metadata": {}
        },
        {
          "output_type": "execute_result",
          "data": {
            "text/plain": [
              "([[0, 0, 0, 0, 0, 1, 0, 0, 1]],\n",
              " array([[0.00121117, 0.02006531, 0.00989532, 0.01363373, 0.02626038,\n",
              "         0.99560547, 0.01501465, 0.10321045, 0.94824219]]))"
            ]
          },
          "metadata": {},
          "execution_count": 49
        }
      ],
      "source": [
        "model.predict(['Jeg elsker dig'])"
      ]
    }
  ]
}